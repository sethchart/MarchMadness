{
 "cells": [
  {
   "cell_type": "markdown",
   "id": "confirmed-metabolism",
   "metadata": {},
   "source": [
    "# Goal\n",
    "In this notebook, we will reformat the data contained in `MNCAATourneyCompactResults.csv` to better match the required submission format."
   ]
  },
  {
   "cell_type": "markdown",
   "id": "greenhouse-cornwall",
   "metadata": {},
   "source": [
    "## Imports"
   ]
  },
  {
   "cell_type": "code",
   "execution_count": 1,
   "id": "backed-warehouse",
   "metadata": {},
   "outputs": [],
   "source": [
    "import pandas as pd"
   ]
  },
  {
   "cell_type": "markdown",
   "id": "growing-contamination",
   "metadata": {},
   "source": [
    "## Read in the data"
   ]
  },
  {
   "cell_type": "code",
   "execution_count": 2,
   "id": "individual-guarantee",
   "metadata": {},
   "outputs": [
    {
     "data": {
      "text/html": [
       "<div>\n",
       "<style scoped>\n",
       "    .dataframe tbody tr th:only-of-type {\n",
       "        vertical-align: middle;\n",
       "    }\n",
       "\n",
       "    .dataframe tbody tr th {\n",
       "        vertical-align: top;\n",
       "    }\n",
       "\n",
       "    .dataframe thead th {\n",
       "        text-align: right;\n",
       "    }\n",
       "</style>\n",
       "<table border=\"1\" class=\"dataframe\">\n",
       "  <thead>\n",
       "    <tr style=\"text-align: right;\">\n",
       "      <th></th>\n",
       "      <th>Season</th>\n",
       "      <th>DayNum</th>\n",
       "      <th>WTeamID</th>\n",
       "      <th>WScore</th>\n",
       "      <th>LTeamID</th>\n",
       "      <th>LScore</th>\n",
       "      <th>WLoc</th>\n",
       "      <th>NumOT</th>\n",
       "    </tr>\n",
       "  </thead>\n",
       "  <tbody>\n",
       "    <tr>\n",
       "      <th>0</th>\n",
       "      <td>1985</td>\n",
       "      <td>136</td>\n",
       "      <td>1116</td>\n",
       "      <td>63</td>\n",
       "      <td>1234</td>\n",
       "      <td>54</td>\n",
       "      <td>N</td>\n",
       "      <td>0</td>\n",
       "    </tr>\n",
       "    <tr>\n",
       "      <th>1</th>\n",
       "      <td>1985</td>\n",
       "      <td>136</td>\n",
       "      <td>1120</td>\n",
       "      <td>59</td>\n",
       "      <td>1345</td>\n",
       "      <td>58</td>\n",
       "      <td>N</td>\n",
       "      <td>0</td>\n",
       "    </tr>\n",
       "    <tr>\n",
       "      <th>2</th>\n",
       "      <td>1985</td>\n",
       "      <td>136</td>\n",
       "      <td>1207</td>\n",
       "      <td>68</td>\n",
       "      <td>1250</td>\n",
       "      <td>43</td>\n",
       "      <td>N</td>\n",
       "      <td>0</td>\n",
       "    </tr>\n",
       "    <tr>\n",
       "      <th>3</th>\n",
       "      <td>1985</td>\n",
       "      <td>136</td>\n",
       "      <td>1229</td>\n",
       "      <td>58</td>\n",
       "      <td>1425</td>\n",
       "      <td>55</td>\n",
       "      <td>N</td>\n",
       "      <td>0</td>\n",
       "    </tr>\n",
       "    <tr>\n",
       "      <th>4</th>\n",
       "      <td>1985</td>\n",
       "      <td>136</td>\n",
       "      <td>1242</td>\n",
       "      <td>49</td>\n",
       "      <td>1325</td>\n",
       "      <td>38</td>\n",
       "      <td>N</td>\n",
       "      <td>0</td>\n",
       "    </tr>\n",
       "  </tbody>\n",
       "</table>\n",
       "</div>"
      ],
      "text/plain": [
       "   Season  DayNum  WTeamID  WScore  LTeamID  LScore WLoc  NumOT\n",
       "0    1985     136     1116      63     1234      54    N      0\n",
       "1    1985     136     1120      59     1345      58    N      0\n",
       "2    1985     136     1207      68     1250      43    N      0\n",
       "3    1985     136     1229      58     1425      55    N      0\n",
       "4    1985     136     1242      49     1325      38    N      0"
      ]
     },
     "execution_count": 2,
     "metadata": {},
     "output_type": "execute_result"
    }
   ],
   "source": [
    "df = pd.read_csv('../../data/raw/MNCAATourneyCompactResults.csv')\n",
    "df.head()"
   ]
  },
  {
   "cell_type": "markdown",
   "id": "vocal-broad",
   "metadata": {},
   "source": [
    "## Making a sample row "
   ]
  },
  {
   "cell_type": "code",
   "execution_count": 3,
   "id": "greatest-blowing",
   "metadata": {},
   "outputs": [
    {
     "data": {
      "text/plain": [
       "Season     1985\n",
       "DayNum      136\n",
       "WTeamID    1116\n",
       "WScore       63\n",
       "LTeamID    1234\n",
       "LScore       54\n",
       "WLoc          N\n",
       "NumOT         0\n",
       "Name: 0, dtype: object"
      ]
     },
     "execution_count": 3,
     "metadata": {},
     "output_type": "execute_result"
    }
   ],
   "source": [
    "row = df.iloc[0]\n",
    "row"
   ]
  },
  {
   "cell_type": "markdown",
   "id": "ready-straight",
   "metadata": {},
   "source": [
    "## Row parser"
   ]
  },
  {
   "cell_type": "code",
   "execution_count": 4,
   "id": "enhanced-indian",
   "metadata": {},
   "outputs": [
    {
     "data": {
      "text/plain": [
       "{'Season': 1985, 'LowID': 1116, 'HighID': 1234, 'Win': 1}"
      ]
     },
     "execution_count": 4,
     "metadata": {},
     "output_type": "execute_result"
    }
   ],
   "source": [
    "def parse_row(row):\n",
    "    season = row['Season']\n",
    "    winning_team_id = row['WTeamID']\n",
    "    losing_team_id = row['LTeamID']\n",
    "    if winning_team_id < losing_team_id:\n",
    "        small_id = winning_team_id\n",
    "        big_id = losing_team_id\n",
    "        outcome = 1\n",
    "    elif losing_team_id < winning_team_id:\n",
    "        small_id = losing_team_id\n",
    "        big_id = winning_team_id\n",
    "        outcome = 0\n",
    "    record = {\n",
    "        'Season': season,\n",
    "        'LowID': small_id,\n",
    "        'HighID': big_id,\n",
    "        'Win': outcome\n",
    "    }\n",
    "    return record\n",
    "\n",
    "parse_row(row)"
   ]
  },
  {
   "cell_type": "markdown",
   "id": "framed-telephone",
   "metadata": {},
   "source": [
    "## Data Frame Parser"
   ]
  },
  {
   "cell_type": "code",
   "execution_count": 5,
   "id": "injured-wilson",
   "metadata": {},
   "outputs": [
    {
     "data": {
      "text/html": [
       "<div>\n",
       "<style scoped>\n",
       "    .dataframe tbody tr th:only-of-type {\n",
       "        vertical-align: middle;\n",
       "    }\n",
       "\n",
       "    .dataframe tbody tr th {\n",
       "        vertical-align: top;\n",
       "    }\n",
       "\n",
       "    .dataframe thead th {\n",
       "        text-align: right;\n",
       "    }\n",
       "</style>\n",
       "<table border=\"1\" class=\"dataframe\">\n",
       "  <thead>\n",
       "    <tr style=\"text-align: right;\">\n",
       "      <th></th>\n",
       "      <th>Season</th>\n",
       "      <th>LowID</th>\n",
       "      <th>HighID</th>\n",
       "      <th>Win</th>\n",
       "    </tr>\n",
       "  </thead>\n",
       "  <tbody>\n",
       "    <tr>\n",
       "      <th>0</th>\n",
       "      <td>1985</td>\n",
       "      <td>1116</td>\n",
       "      <td>1234</td>\n",
       "      <td>1</td>\n",
       "    </tr>\n",
       "    <tr>\n",
       "      <th>1</th>\n",
       "      <td>1985</td>\n",
       "      <td>1120</td>\n",
       "      <td>1345</td>\n",
       "      <td>1</td>\n",
       "    </tr>\n",
       "    <tr>\n",
       "      <th>2</th>\n",
       "      <td>1985</td>\n",
       "      <td>1207</td>\n",
       "      <td>1250</td>\n",
       "      <td>1</td>\n",
       "    </tr>\n",
       "    <tr>\n",
       "      <th>3</th>\n",
       "      <td>1985</td>\n",
       "      <td>1229</td>\n",
       "      <td>1425</td>\n",
       "      <td>1</td>\n",
       "    </tr>\n",
       "    <tr>\n",
       "      <th>4</th>\n",
       "      <td>1985</td>\n",
       "      <td>1242</td>\n",
       "      <td>1325</td>\n",
       "      <td>1</td>\n",
       "    </tr>\n",
       "  </tbody>\n",
       "</table>\n",
       "</div>"
      ],
      "text/plain": [
       "   Season  LowID  HighID  Win\n",
       "0    1985   1116    1234    1\n",
       "1    1985   1120    1345    1\n",
       "2    1985   1207    1250    1\n",
       "3    1985   1229    1425    1\n",
       "4    1985   1242    1325    1"
      ]
     },
     "execution_count": 5,
     "metadata": {},
     "output_type": "execute_result"
    }
   ],
   "source": [
    "def parse_dataframe(df):\n",
    "    input_rows = df.to_records()\n",
    "    output_rows = [parse_row(input_row) for input_row in input_rows]\n",
    "    out_df = pd.DataFrame(output_rows)\n",
    "    return out_df\n",
    "    \n",
    "parse_dataframe(df[:5])"
   ]
  },
  {
   "cell_type": "markdown",
   "id": "paperback-charity",
   "metadata": {},
   "source": [
    "## Make and Write Tournament Outcomes"
   ]
  },
  {
   "cell_type": "code",
   "execution_count": 6,
   "id": "actual-plaza",
   "metadata": {},
   "outputs": [],
   "source": [
    "outcomes = parse_dataframe(df)\n",
    "outcomes.to_csv('../../data/processed/tournament_outcomes.csv')"
   ]
  },
  {
   "cell_type": "code",
   "execution_count": null,
   "id": "split-indianapolis",
   "metadata": {},
   "outputs": [],
   "source": []
  }
 ],
 "metadata": {
  "kernelspec": {
   "display_name": "Python 3",
   "language": "python",
   "name": "python3"
  },
  "language_info": {
   "codemirror_mode": {
    "name": "ipython",
    "version": 3
   },
   "file_extension": ".py",
   "mimetype": "text/x-python",
   "name": "python",
   "nbconvert_exporter": "python",
   "pygments_lexer": "ipython3",
   "version": "3.8.6"
  },
  "widgets": {
   "application/vnd.jupyter.widget-state+json": {
    "state": {},
    "version_major": 2,
    "version_minor": 0
   }
  }
 },
 "nbformat": 4,
 "nbformat_minor": 5
}
