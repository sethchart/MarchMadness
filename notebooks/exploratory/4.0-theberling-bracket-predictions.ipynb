{
 "cells": [
  {
   "cell_type": "markdown",
   "metadata": {},
   "source": [
    "We made our predictions in phase2_submissions1.csv. Now let's back out what those submissions are in the bracket."
   ]
  },
  {
   "cell_type": "code",
   "execution_count": 405,
   "metadata": {},
   "outputs": [],
   "source": [
    "import pandas as pd"
   ]
  },
  {
   "cell_type": "code",
   "execution_count": 565,
   "metadata": {},
   "outputs": [
    {
     "data": {
      "text/html": [
       "<div>\n",
       "<style scoped>\n",
       "    .dataframe tbody tr th:only-of-type {\n",
       "        vertical-align: middle;\n",
       "    }\n",
       "\n",
       "    .dataframe tbody tr th {\n",
       "        vertical-align: top;\n",
       "    }\n",
       "\n",
       "    .dataframe thead th {\n",
       "        text-align: right;\n",
       "    }\n",
       "</style>\n",
       "<table border=\"1\" class=\"dataframe\">\n",
       "  <thead>\n",
       "    <tr style=\"text-align: right;\">\n",
       "      <th></th>\n",
       "      <th>ID</th>\n",
       "      <th>Pred</th>\n",
       "    </tr>\n",
       "  </thead>\n",
       "  <tbody>\n",
       "    <tr>\n",
       "      <th>0</th>\n",
       "      <td>2021_1101_1104</td>\n",
       "      <td>0.003117</td>\n",
       "    </tr>\n",
       "    <tr>\n",
       "      <th>1</th>\n",
       "      <td>2021_1101_1111</td>\n",
       "      <td>0.805002</td>\n",
       "    </tr>\n",
       "    <tr>\n",
       "      <th>2</th>\n",
       "      <td>2021_1101_1116</td>\n",
       "      <td>0.000475</td>\n",
       "    </tr>\n",
       "    <tr>\n",
       "      <th>3</th>\n",
       "      <td>2021_1101_1124</td>\n",
       "      <td>0.008319</td>\n",
       "    </tr>\n",
       "    <tr>\n",
       "      <th>4</th>\n",
       "      <td>2021_1101_1140</td>\n",
       "      <td>0.012145</td>\n",
       "    </tr>\n",
       "  </tbody>\n",
       "</table>\n",
       "</div>"
      ],
      "text/plain": [
       "               ID      Pred\n",
       "0  2021_1101_1104  0.003117\n",
       "1  2021_1101_1111  0.805002\n",
       "2  2021_1101_1116  0.000475\n",
       "3  2021_1101_1124  0.008319\n",
       "4  2021_1101_1140  0.012145"
      ]
     },
     "execution_count": 565,
     "metadata": {},
     "output_type": "execute_result"
    }
   ],
   "source": [
    "df_pred = pd.read_csv('../../data/predictions/phase2_submissions1.csv')\n",
    "df_pred.head()"
   ]
  },
  {
   "cell_type": "markdown",
   "metadata": {},
   "source": [
    "Excellent, now we have our submission file into a dataframe with ID and Predictions. From here we'll need to bring in the first round teams and see who we predict will win."
   ]
  },
  {
   "cell_type": "code",
   "execution_count": 566,
   "metadata": {},
   "outputs": [
    {
     "data": {
      "text/html": [
       "<div>\n",
       "<style scoped>\n",
       "    .dataframe tbody tr th:only-of-type {\n",
       "        vertical-align: middle;\n",
       "    }\n",
       "\n",
       "    .dataframe tbody tr th {\n",
       "        vertical-align: top;\n",
       "    }\n",
       "\n",
       "    .dataframe thead th {\n",
       "        text-align: right;\n",
       "    }\n",
       "</style>\n",
       "<table border=\"1\" class=\"dataframe\">\n",
       "  <thead>\n",
       "    <tr style=\"text-align: right;\">\n",
       "      <th></th>\n",
       "      <th>TeamID</th>\n",
       "      <th>TeamName</th>\n",
       "      <th>FirstD1Season</th>\n",
       "      <th>LastD1Season</th>\n",
       "    </tr>\n",
       "  </thead>\n",
       "  <tbody>\n",
       "    <tr>\n",
       "      <th>0</th>\n",
       "      <td>1101</td>\n",
       "      <td>Abilene Chr</td>\n",
       "      <td>2014</td>\n",
       "      <td>2021</td>\n",
       "    </tr>\n",
       "    <tr>\n",
       "      <th>1</th>\n",
       "      <td>1102</td>\n",
       "      <td>Air Force</td>\n",
       "      <td>1985</td>\n",
       "      <td>2021</td>\n",
       "    </tr>\n",
       "    <tr>\n",
       "      <th>2</th>\n",
       "      <td>1103</td>\n",
       "      <td>Akron</td>\n",
       "      <td>1985</td>\n",
       "      <td>2021</td>\n",
       "    </tr>\n",
       "    <tr>\n",
       "      <th>3</th>\n",
       "      <td>1104</td>\n",
       "      <td>Alabama</td>\n",
       "      <td>1985</td>\n",
       "      <td>2021</td>\n",
       "    </tr>\n",
       "    <tr>\n",
       "      <th>4</th>\n",
       "      <td>1105</td>\n",
       "      <td>Alabama A&amp;M</td>\n",
       "      <td>2000</td>\n",
       "      <td>2021</td>\n",
       "    </tr>\n",
       "  </tbody>\n",
       "</table>\n",
       "</div>"
      ],
      "text/plain": [
       "   TeamID     TeamName  FirstD1Season  LastD1Season\n",
       "0    1101  Abilene Chr           2014          2021\n",
       "1    1102    Air Force           1985          2021\n",
       "2    1103        Akron           1985          2021\n",
       "3    1104      Alabama           1985          2021\n",
       "4    1105  Alabama A&M           2000          2021"
      ]
     },
     "execution_count": 566,
     "metadata": {},
     "output_type": "execute_result"
    }
   ],
   "source": [
    "#read in the team data\n",
    "df_teams = pd.read_csv('../../data/raw/MDataFiles_Stage2/MTeams.csv')\n",
    "df_teams.head()"
   ]
  },
  {
   "cell_type": "code",
   "execution_count": 567,
   "metadata": {},
   "outputs": [
    {
     "data": {
      "text/html": [
       "<div>\n",
       "<style scoped>\n",
       "    .dataframe tbody tr th:only-of-type {\n",
       "        vertical-align: middle;\n",
       "    }\n",
       "\n",
       "    .dataframe tbody tr th {\n",
       "        vertical-align: top;\n",
       "    }\n",
       "\n",
       "    .dataframe thead th {\n",
       "        text-align: right;\n",
       "    }\n",
       "</style>\n",
       "<table border=\"1\" class=\"dataframe\">\n",
       "  <thead>\n",
       "    <tr style=\"text-align: right;\">\n",
       "      <th></th>\n",
       "      <th>Season</th>\n",
       "      <th>Slot</th>\n",
       "      <th>StrongSeed</th>\n",
       "      <th>WeakSeed</th>\n",
       "    </tr>\n",
       "  </thead>\n",
       "  <tbody>\n",
       "    <tr>\n",
       "      <th>0</th>\n",
       "      <td>1985</td>\n",
       "      <td>R1W1</td>\n",
       "      <td>W01</td>\n",
       "      <td>W16</td>\n",
       "    </tr>\n",
       "    <tr>\n",
       "      <th>1</th>\n",
       "      <td>1985</td>\n",
       "      <td>R1W2</td>\n",
       "      <td>W02</td>\n",
       "      <td>W15</td>\n",
       "    </tr>\n",
       "    <tr>\n",
       "      <th>2</th>\n",
       "      <td>1985</td>\n",
       "      <td>R1W3</td>\n",
       "      <td>W03</td>\n",
       "      <td>W14</td>\n",
       "    </tr>\n",
       "    <tr>\n",
       "      <th>3</th>\n",
       "      <td>1985</td>\n",
       "      <td>R1W4</td>\n",
       "      <td>W04</td>\n",
       "      <td>W13</td>\n",
       "    </tr>\n",
       "    <tr>\n",
       "      <th>4</th>\n",
       "      <td>1985</td>\n",
       "      <td>R1W5</td>\n",
       "      <td>W05</td>\n",
       "      <td>W12</td>\n",
       "    </tr>\n",
       "  </tbody>\n",
       "</table>\n",
       "</div>"
      ],
      "text/plain": [
       "   Season  Slot StrongSeed WeakSeed\n",
       "0    1985  R1W1        W01      W16\n",
       "1    1985  R1W2        W02      W15\n",
       "2    1985  R1W3        W03      W14\n",
       "3    1985  R1W4        W04      W13\n",
       "4    1985  R1W5        W05      W12"
      ]
     },
     "execution_count": 567,
     "metadata": {},
     "output_type": "execute_result"
    }
   ],
   "source": [
    "#read in the tournament slot data\n",
    "df_slots = pd.read_csv('../../data/raw/MDataFiles_Stage2/MNCAATourneySlots.csv')\n",
    "df_slots.head()"
   ]
  },
  {
   "cell_type": "code",
   "execution_count": 568,
   "metadata": {},
   "outputs": [
    {
     "data": {
      "text/html": [
       "<div>\n",
       "<style scoped>\n",
       "    .dataframe tbody tr th:only-of-type {\n",
       "        vertical-align: middle;\n",
       "    }\n",
       "\n",
       "    .dataframe tbody tr th {\n",
       "        vertical-align: top;\n",
       "    }\n",
       "\n",
       "    .dataframe thead th {\n",
       "        text-align: right;\n",
       "    }\n",
       "</style>\n",
       "<table border=\"1\" class=\"dataframe\">\n",
       "  <thead>\n",
       "    <tr style=\"text-align: right;\">\n",
       "      <th></th>\n",
       "      <th>Season</th>\n",
       "      <th>Slot</th>\n",
       "      <th>StrongSeed</th>\n",
       "      <th>WeakSeed</th>\n",
       "    </tr>\n",
       "  </thead>\n",
       "  <tbody>\n",
       "    <tr>\n",
       "      <th>0</th>\n",
       "      <td>2021</td>\n",
       "      <td>R1W1</td>\n",
       "      <td>W01</td>\n",
       "      <td>W16</td>\n",
       "    </tr>\n",
       "    <tr>\n",
       "      <th>1</th>\n",
       "      <td>2021</td>\n",
       "      <td>R1W2</td>\n",
       "      <td>W02</td>\n",
       "      <td>W15</td>\n",
       "    </tr>\n",
       "    <tr>\n",
       "      <th>2</th>\n",
       "      <td>2021</td>\n",
       "      <td>R1W3</td>\n",
       "      <td>W03</td>\n",
       "      <td>W14</td>\n",
       "    </tr>\n",
       "    <tr>\n",
       "      <th>3</th>\n",
       "      <td>2021</td>\n",
       "      <td>R1W4</td>\n",
       "      <td>W04</td>\n",
       "      <td>W13</td>\n",
       "    </tr>\n",
       "    <tr>\n",
       "      <th>4</th>\n",
       "      <td>2021</td>\n",
       "      <td>R1W5</td>\n",
       "      <td>W05</td>\n",
       "      <td>W12</td>\n",
       "    </tr>\n",
       "    <tr>\n",
       "      <th>5</th>\n",
       "      <td>2021</td>\n",
       "      <td>R1W6</td>\n",
       "      <td>W06</td>\n",
       "      <td>W11</td>\n",
       "    </tr>\n",
       "    <tr>\n",
       "      <th>6</th>\n",
       "      <td>2021</td>\n",
       "      <td>R1W7</td>\n",
       "      <td>W07</td>\n",
       "      <td>W10</td>\n",
       "    </tr>\n",
       "    <tr>\n",
       "      <th>7</th>\n",
       "      <td>2021</td>\n",
       "      <td>R1W8</td>\n",
       "      <td>W08</td>\n",
       "      <td>W09</td>\n",
       "    </tr>\n",
       "    <tr>\n",
       "      <th>8</th>\n",
       "      <td>2021</td>\n",
       "      <td>R1X1</td>\n",
       "      <td>X01</td>\n",
       "      <td>X16</td>\n",
       "    </tr>\n",
       "    <tr>\n",
       "      <th>9</th>\n",
       "      <td>2021</td>\n",
       "      <td>R1X2</td>\n",
       "      <td>X02</td>\n",
       "      <td>X15</td>\n",
       "    </tr>\n",
       "    <tr>\n",
       "      <th>10</th>\n",
       "      <td>2021</td>\n",
       "      <td>R1X3</td>\n",
       "      <td>X03</td>\n",
       "      <td>X14</td>\n",
       "    </tr>\n",
       "    <tr>\n",
       "      <th>11</th>\n",
       "      <td>2021</td>\n",
       "      <td>R1X4</td>\n",
       "      <td>X04</td>\n",
       "      <td>X13</td>\n",
       "    </tr>\n",
       "    <tr>\n",
       "      <th>12</th>\n",
       "      <td>2021</td>\n",
       "      <td>R1X5</td>\n",
       "      <td>X05</td>\n",
       "      <td>X12</td>\n",
       "    </tr>\n",
       "    <tr>\n",
       "      <th>13</th>\n",
       "      <td>2021</td>\n",
       "      <td>R1X6</td>\n",
       "      <td>X06</td>\n",
       "      <td>X11</td>\n",
       "    </tr>\n",
       "    <tr>\n",
       "      <th>14</th>\n",
       "      <td>2021</td>\n",
       "      <td>R1X7</td>\n",
       "      <td>X07</td>\n",
       "      <td>X10</td>\n",
       "    </tr>\n",
       "    <tr>\n",
       "      <th>15</th>\n",
       "      <td>2021</td>\n",
       "      <td>R1X8</td>\n",
       "      <td>X08</td>\n",
       "      <td>X09</td>\n",
       "    </tr>\n",
       "    <tr>\n",
       "      <th>16</th>\n",
       "      <td>2021</td>\n",
       "      <td>R1Y1</td>\n",
       "      <td>Y01</td>\n",
       "      <td>Y16</td>\n",
       "    </tr>\n",
       "    <tr>\n",
       "      <th>17</th>\n",
       "      <td>2021</td>\n",
       "      <td>R1Y2</td>\n",
       "      <td>Y02</td>\n",
       "      <td>Y15</td>\n",
       "    </tr>\n",
       "    <tr>\n",
       "      <th>18</th>\n",
       "      <td>2021</td>\n",
       "      <td>R1Y3</td>\n",
       "      <td>Y03</td>\n",
       "      <td>Y14</td>\n",
       "    </tr>\n",
       "    <tr>\n",
       "      <th>19</th>\n",
       "      <td>2021</td>\n",
       "      <td>R1Y4</td>\n",
       "      <td>Y04</td>\n",
       "      <td>Y13</td>\n",
       "    </tr>\n",
       "    <tr>\n",
       "      <th>20</th>\n",
       "      <td>2021</td>\n",
       "      <td>R1Y5</td>\n",
       "      <td>Y05</td>\n",
       "      <td>Y12</td>\n",
       "    </tr>\n",
       "    <tr>\n",
       "      <th>21</th>\n",
       "      <td>2021</td>\n",
       "      <td>R1Y6</td>\n",
       "      <td>Y06</td>\n",
       "      <td>Y11</td>\n",
       "    </tr>\n",
       "    <tr>\n",
       "      <th>22</th>\n",
       "      <td>2021</td>\n",
       "      <td>R1Y7</td>\n",
       "      <td>Y07</td>\n",
       "      <td>Y10</td>\n",
       "    </tr>\n",
       "    <tr>\n",
       "      <th>23</th>\n",
       "      <td>2021</td>\n",
       "      <td>R1Y8</td>\n",
       "      <td>Y08</td>\n",
       "      <td>Y09</td>\n",
       "    </tr>\n",
       "    <tr>\n",
       "      <th>24</th>\n",
       "      <td>2021</td>\n",
       "      <td>R1Z1</td>\n",
       "      <td>Z01</td>\n",
       "      <td>Z16</td>\n",
       "    </tr>\n",
       "    <tr>\n",
       "      <th>25</th>\n",
       "      <td>2021</td>\n",
       "      <td>R1Z2</td>\n",
       "      <td>Z02</td>\n",
       "      <td>Z15</td>\n",
       "    </tr>\n",
       "    <tr>\n",
       "      <th>26</th>\n",
       "      <td>2021</td>\n",
       "      <td>R1Z3</td>\n",
       "      <td>Z03</td>\n",
       "      <td>Z14</td>\n",
       "    </tr>\n",
       "    <tr>\n",
       "      <th>27</th>\n",
       "      <td>2021</td>\n",
       "      <td>R1Z4</td>\n",
       "      <td>Z04</td>\n",
       "      <td>Z13</td>\n",
       "    </tr>\n",
       "    <tr>\n",
       "      <th>28</th>\n",
       "      <td>2021</td>\n",
       "      <td>R1Z5</td>\n",
       "      <td>Z05</td>\n",
       "      <td>Z12</td>\n",
       "    </tr>\n",
       "    <tr>\n",
       "      <th>29</th>\n",
       "      <td>2021</td>\n",
       "      <td>R1Z6</td>\n",
       "      <td>Z06</td>\n",
       "      <td>Z11</td>\n",
       "    </tr>\n",
       "    <tr>\n",
       "      <th>30</th>\n",
       "      <td>2021</td>\n",
       "      <td>R1Z7</td>\n",
       "      <td>Z07</td>\n",
       "      <td>Z10</td>\n",
       "    </tr>\n",
       "    <tr>\n",
       "      <th>31</th>\n",
       "      <td>2021</td>\n",
       "      <td>R1Z8</td>\n",
       "      <td>Z08</td>\n",
       "      <td>Z09</td>\n",
       "    </tr>\n",
       "    <tr>\n",
       "      <th>32</th>\n",
       "      <td>2021</td>\n",
       "      <td>R2W1</td>\n",
       "      <td>R1W1</td>\n",
       "      <td>R1W8</td>\n",
       "    </tr>\n",
       "    <tr>\n",
       "      <th>33</th>\n",
       "      <td>2021</td>\n",
       "      <td>R2W2</td>\n",
       "      <td>R1W2</td>\n",
       "      <td>R1W7</td>\n",
       "    </tr>\n",
       "    <tr>\n",
       "      <th>34</th>\n",
       "      <td>2021</td>\n",
       "      <td>R2W3</td>\n",
       "      <td>R1W3</td>\n",
       "      <td>R1W6</td>\n",
       "    </tr>\n",
       "    <tr>\n",
       "      <th>35</th>\n",
       "      <td>2021</td>\n",
       "      <td>R2W4</td>\n",
       "      <td>R1W4</td>\n",
       "      <td>R1W5</td>\n",
       "    </tr>\n",
       "    <tr>\n",
       "      <th>36</th>\n",
       "      <td>2021</td>\n",
       "      <td>R2X1</td>\n",
       "      <td>R1X1</td>\n",
       "      <td>R1X8</td>\n",
       "    </tr>\n",
       "    <tr>\n",
       "      <th>37</th>\n",
       "      <td>2021</td>\n",
       "      <td>R2X2</td>\n",
       "      <td>R1X2</td>\n",
       "      <td>R1X7</td>\n",
       "    </tr>\n",
       "    <tr>\n",
       "      <th>38</th>\n",
       "      <td>2021</td>\n",
       "      <td>R2X3</td>\n",
       "      <td>R1X3</td>\n",
       "      <td>R1X6</td>\n",
       "    </tr>\n",
       "    <tr>\n",
       "      <th>39</th>\n",
       "      <td>2021</td>\n",
       "      <td>R2X4</td>\n",
       "      <td>R1X4</td>\n",
       "      <td>R1X5</td>\n",
       "    </tr>\n",
       "    <tr>\n",
       "      <th>40</th>\n",
       "      <td>2021</td>\n",
       "      <td>R2Y1</td>\n",
       "      <td>R1Y1</td>\n",
       "      <td>R1Y8</td>\n",
       "    </tr>\n",
       "    <tr>\n",
       "      <th>41</th>\n",
       "      <td>2021</td>\n",
       "      <td>R2Y2</td>\n",
       "      <td>R1Y2</td>\n",
       "      <td>R1Y7</td>\n",
       "    </tr>\n",
       "    <tr>\n",
       "      <th>42</th>\n",
       "      <td>2021</td>\n",
       "      <td>R2Y3</td>\n",
       "      <td>R1Y3</td>\n",
       "      <td>R1Y6</td>\n",
       "    </tr>\n",
       "    <tr>\n",
       "      <th>43</th>\n",
       "      <td>2021</td>\n",
       "      <td>R2Y4</td>\n",
       "      <td>R1Y4</td>\n",
       "      <td>R1Y5</td>\n",
       "    </tr>\n",
       "    <tr>\n",
       "      <th>44</th>\n",
       "      <td>2021</td>\n",
       "      <td>R2Z1</td>\n",
       "      <td>R1Z1</td>\n",
       "      <td>R1Z8</td>\n",
       "    </tr>\n",
       "    <tr>\n",
       "      <th>45</th>\n",
       "      <td>2021</td>\n",
       "      <td>R2Z2</td>\n",
       "      <td>R1Z2</td>\n",
       "      <td>R1Z7</td>\n",
       "    </tr>\n",
       "    <tr>\n",
       "      <th>46</th>\n",
       "      <td>2021</td>\n",
       "      <td>R2Z3</td>\n",
       "      <td>R1Z3</td>\n",
       "      <td>R1Z6</td>\n",
       "    </tr>\n",
       "    <tr>\n",
       "      <th>47</th>\n",
       "      <td>2021</td>\n",
       "      <td>R2Z4</td>\n",
       "      <td>R1Z4</td>\n",
       "      <td>R1Z5</td>\n",
       "    </tr>\n",
       "  </tbody>\n",
       "</table>\n",
       "</div>"
      ],
      "text/plain": [
       "    Season  Slot StrongSeed WeakSeed\n",
       "0     2021  R1W1        W01      W16\n",
       "1     2021  R1W2        W02      W15\n",
       "2     2021  R1W3        W03      W14\n",
       "3     2021  R1W4        W04      W13\n",
       "4     2021  R1W5        W05      W12\n",
       "5     2021  R1W6        W06      W11\n",
       "6     2021  R1W7        W07      W10\n",
       "7     2021  R1W8        W08      W09\n",
       "8     2021  R1X1        X01      X16\n",
       "9     2021  R1X2        X02      X15\n",
       "10    2021  R1X3        X03      X14\n",
       "11    2021  R1X4        X04      X13\n",
       "12    2021  R1X5        X05      X12\n",
       "13    2021  R1X6        X06      X11\n",
       "14    2021  R1X7        X07      X10\n",
       "15    2021  R1X8        X08      X09\n",
       "16    2021  R1Y1        Y01      Y16\n",
       "17    2021  R1Y2        Y02      Y15\n",
       "18    2021  R1Y3        Y03      Y14\n",
       "19    2021  R1Y4        Y04      Y13\n",
       "20    2021  R1Y5        Y05      Y12\n",
       "21    2021  R1Y6        Y06      Y11\n",
       "22    2021  R1Y7        Y07      Y10\n",
       "23    2021  R1Y8        Y08      Y09\n",
       "24    2021  R1Z1        Z01      Z16\n",
       "25    2021  R1Z2        Z02      Z15\n",
       "26    2021  R1Z3        Z03      Z14\n",
       "27    2021  R1Z4        Z04      Z13\n",
       "28    2021  R1Z5        Z05      Z12\n",
       "29    2021  R1Z6        Z06      Z11\n",
       "30    2021  R1Z7        Z07      Z10\n",
       "31    2021  R1Z8        Z08      Z09\n",
       "32    2021  R2W1       R1W1     R1W8\n",
       "33    2021  R2W2       R1W2     R1W7\n",
       "34    2021  R2W3       R1W3     R1W6\n",
       "35    2021  R2W4       R1W4     R1W5\n",
       "36    2021  R2X1       R1X1     R1X8\n",
       "37    2021  R2X2       R1X2     R1X7\n",
       "38    2021  R2X3       R1X3     R1X6\n",
       "39    2021  R2X4       R1X4     R1X5\n",
       "40    2021  R2Y1       R1Y1     R1Y8\n",
       "41    2021  R2Y2       R1Y2     R1Y7\n",
       "42    2021  R2Y3       R1Y3     R1Y6\n",
       "43    2021  R2Y4       R1Y4     R1Y5\n",
       "44    2021  R2Z1       R1Z1     R1Z8\n",
       "45    2021  R2Z2       R1Z2     R1Z7\n",
       "46    2021  R2Z3       R1Z3     R1Z6\n",
       "47    2021  R2Z4       R1Z4     R1Z5"
      ]
     },
     "execution_count": 568,
     "metadata": {},
     "output_type": "execute_result"
    }
   ],
   "source": [
    "df_slots2021 = df_slots[df_slots['Season']==2021]\n",
    "df_slots2021 = df_slots2021.reset_index(drop=True)\n",
    "df_slots2021.head(48)"
   ]
  },
  {
   "cell_type": "code",
   "execution_count": 569,
   "metadata": {},
   "outputs": [
    {
     "data": {
      "text/html": [
       "<div>\n",
       "<style scoped>\n",
       "    .dataframe tbody tr th:only-of-type {\n",
       "        vertical-align: middle;\n",
       "    }\n",
       "\n",
       "    .dataframe tbody tr th {\n",
       "        vertical-align: top;\n",
       "    }\n",
       "\n",
       "    .dataframe thead th {\n",
       "        text-align: right;\n",
       "    }\n",
       "</style>\n",
       "<table border=\"1\" class=\"dataframe\">\n",
       "  <thead>\n",
       "    <tr style=\"text-align: right;\">\n",
       "      <th></th>\n",
       "      <th>Season</th>\n",
       "      <th>Slot</th>\n",
       "      <th>StrongSeed</th>\n",
       "      <th>WeakSeed</th>\n",
       "    </tr>\n",
       "  </thead>\n",
       "  <tbody>\n",
       "    <tr>\n",
       "      <th>57</th>\n",
       "      <td>2021</td>\n",
       "      <td>R4X1</td>\n",
       "      <td>R3X1</td>\n",
       "      <td>R3X2</td>\n",
       "    </tr>\n",
       "    <tr>\n",
       "      <th>58</th>\n",
       "      <td>2021</td>\n",
       "      <td>R4Y1</td>\n",
       "      <td>R3Y1</td>\n",
       "      <td>R3Y2</td>\n",
       "    </tr>\n",
       "    <tr>\n",
       "      <th>59</th>\n",
       "      <td>2021</td>\n",
       "      <td>R4Z1</td>\n",
       "      <td>R3Z1</td>\n",
       "      <td>R3Z2</td>\n",
       "    </tr>\n",
       "    <tr>\n",
       "      <th>60</th>\n",
       "      <td>2021</td>\n",
       "      <td>R5WX</td>\n",
       "      <td>R4W1</td>\n",
       "      <td>R4X1</td>\n",
       "    </tr>\n",
       "    <tr>\n",
       "      <th>61</th>\n",
       "      <td>2021</td>\n",
       "      <td>R5YZ</td>\n",
       "      <td>R4Y1</td>\n",
       "      <td>R4Z1</td>\n",
       "    </tr>\n",
       "    <tr>\n",
       "      <th>62</th>\n",
       "      <td>2021</td>\n",
       "      <td>R6CH</td>\n",
       "      <td>R5WX</td>\n",
       "      <td>R5YZ</td>\n",
       "    </tr>\n",
       "    <tr>\n",
       "      <th>63</th>\n",
       "      <td>2021</td>\n",
       "      <td>W11</td>\n",
       "      <td>W11a</td>\n",
       "      <td>W11b</td>\n",
       "    </tr>\n",
       "    <tr>\n",
       "      <th>64</th>\n",
       "      <td>2021</td>\n",
       "      <td>W16</td>\n",
       "      <td>W16a</td>\n",
       "      <td>W16b</td>\n",
       "    </tr>\n",
       "    <tr>\n",
       "      <th>65</th>\n",
       "      <td>2021</td>\n",
       "      <td>X11</td>\n",
       "      <td>X11a</td>\n",
       "      <td>X11b</td>\n",
       "    </tr>\n",
       "    <tr>\n",
       "      <th>66</th>\n",
       "      <td>2021</td>\n",
       "      <td>X16</td>\n",
       "      <td>X16a</td>\n",
       "      <td>X16b</td>\n",
       "    </tr>\n",
       "  </tbody>\n",
       "</table>\n",
       "</div>"
      ],
      "text/plain": [
       "    Season  Slot StrongSeed WeakSeed\n",
       "57    2021  R4X1       R3X1     R3X2\n",
       "58    2021  R4Y1       R3Y1     R3Y2\n",
       "59    2021  R4Z1       R3Z1     R3Z2\n",
       "60    2021  R5WX       R4W1     R4X1\n",
       "61    2021  R5YZ       R4Y1     R4Z1\n",
       "62    2021  R6CH       R5WX     R5YZ\n",
       "63    2021   W11       W11a     W11b\n",
       "64    2021   W16       W16a     W16b\n",
       "65    2021   X11       X11a     X11b\n",
       "66    2021   X16       X16a     X16b"
      ]
     },
     "execution_count": 569,
     "metadata": {},
     "output_type": "execute_result"
    }
   ],
   "source": [
    "df_slots2021.tail(10)"
   ]
  },
  {
   "cell_type": "code",
   "execution_count": 570,
   "metadata": {},
   "outputs": [
    {
     "data": {
      "text/html": [
       "<div>\n",
       "<style scoped>\n",
       "    .dataframe tbody tr th:only-of-type {\n",
       "        vertical-align: middle;\n",
       "    }\n",
       "\n",
       "    .dataframe tbody tr th {\n",
       "        vertical-align: top;\n",
       "    }\n",
       "\n",
       "    .dataframe thead th {\n",
       "        text-align: right;\n",
       "    }\n",
       "</style>\n",
       "<table border=\"1\" class=\"dataframe\">\n",
       "  <thead>\n",
       "    <tr style=\"text-align: right;\">\n",
       "      <th></th>\n",
       "      <th>Season</th>\n",
       "      <th>Seed</th>\n",
       "      <th>TeamID</th>\n",
       "    </tr>\n",
       "  </thead>\n",
       "  <tbody>\n",
       "    <tr>\n",
       "      <th>0</th>\n",
       "      <td>1985</td>\n",
       "      <td>W01</td>\n",
       "      <td>1207</td>\n",
       "    </tr>\n",
       "    <tr>\n",
       "      <th>1</th>\n",
       "      <td>1985</td>\n",
       "      <td>W02</td>\n",
       "      <td>1210</td>\n",
       "    </tr>\n",
       "    <tr>\n",
       "      <th>2</th>\n",
       "      <td>1985</td>\n",
       "      <td>W03</td>\n",
       "      <td>1228</td>\n",
       "    </tr>\n",
       "    <tr>\n",
       "      <th>3</th>\n",
       "      <td>1985</td>\n",
       "      <td>W04</td>\n",
       "      <td>1260</td>\n",
       "    </tr>\n",
       "    <tr>\n",
       "      <th>4</th>\n",
       "      <td>1985</td>\n",
       "      <td>W05</td>\n",
       "      <td>1374</td>\n",
       "    </tr>\n",
       "  </tbody>\n",
       "</table>\n",
       "</div>"
      ],
      "text/plain": [
       "   Season Seed  TeamID\n",
       "0    1985  W01    1207\n",
       "1    1985  W02    1210\n",
       "2    1985  W03    1228\n",
       "3    1985  W04    1260\n",
       "4    1985  W05    1374"
      ]
     },
     "execution_count": 570,
     "metadata": {},
     "output_type": "execute_result"
    }
   ],
   "source": [
    "#read in the tournament seed data data\n",
    "df_seeds = pd.read_csv('../../data/raw/MDataFiles_Stage2/MNCAATourneySeeds.csv')\n",
    "df_seeds.head()"
   ]
  },
  {
   "cell_type": "code",
   "execution_count": 571,
   "metadata": {},
   "outputs": [
    {
     "data": {
      "text/html": [
       "<div>\n",
       "<style scoped>\n",
       "    .dataframe tbody tr th:only-of-type {\n",
       "        vertical-align: middle;\n",
       "    }\n",
       "\n",
       "    .dataframe tbody tr th {\n",
       "        vertical-align: top;\n",
       "    }\n",
       "\n",
       "    .dataframe thead th {\n",
       "        text-align: right;\n",
       "    }\n",
       "</style>\n",
       "<table border=\"1\" class=\"dataframe\">\n",
       "  <thead>\n",
       "    <tr style=\"text-align: right;\">\n",
       "      <th></th>\n",
       "      <th>Season</th>\n",
       "      <th>Seed</th>\n",
       "      <th>TeamID</th>\n",
       "    </tr>\n",
       "  </thead>\n",
       "  <tbody>\n",
       "    <tr>\n",
       "      <th>0</th>\n",
       "      <td>2021</td>\n",
       "      <td>W01</td>\n",
       "      <td>1276</td>\n",
       "    </tr>\n",
       "    <tr>\n",
       "      <th>1</th>\n",
       "      <td>2021</td>\n",
       "      <td>W02</td>\n",
       "      <td>1104</td>\n",
       "    </tr>\n",
       "    <tr>\n",
       "      <th>2</th>\n",
       "      <td>2021</td>\n",
       "      <td>W03</td>\n",
       "      <td>1400</td>\n",
       "    </tr>\n",
       "    <tr>\n",
       "      <th>3</th>\n",
       "      <td>2021</td>\n",
       "      <td>W04</td>\n",
       "      <td>1199</td>\n",
       "    </tr>\n",
       "    <tr>\n",
       "      <th>4</th>\n",
       "      <td>2021</td>\n",
       "      <td>W05</td>\n",
       "      <td>1160</td>\n",
       "    </tr>\n",
       "  </tbody>\n",
       "</table>\n",
       "</div>"
      ],
      "text/plain": [
       "   Season Seed  TeamID\n",
       "0    2021  W01    1276\n",
       "1    2021  W02    1104\n",
       "2    2021  W03    1400\n",
       "3    2021  W04    1199\n",
       "4    2021  W05    1160"
      ]
     },
     "execution_count": 571,
     "metadata": {},
     "output_type": "execute_result"
    }
   ],
   "source": [
    "df_seeds2021 = df_seeds[df_seeds['Season']==2021]\n",
    "df_seeds2021 = df_seeds2021.reset_index(drop=True)\n",
    "df_seeds2021.head()"
   ]
  },
  {
   "cell_type": "markdown",
   "metadata": {},
   "source": [
    "Rather than messing with the play-in games, let's take 11a and 16a as seed 11 and 16. Then we don't need to worry about it. "
   ]
  },
  {
   "cell_type": "code",
   "execution_count": 572,
   "metadata": {},
   "outputs": [],
   "source": [
    "df_seeds2021.Seed.replace(['W11a','W16a','X11a','X16a'],['W11','W16','X11','X16'],inplace=True)"
   ]
  },
  {
   "cell_type": "markdown",
   "metadata": {},
   "source": [
    "I think with these three dataframes, we can write a function that will take the slot information to find out which slots play eachother in each round. Then we use the seed data frame to look up which TeamID is associated with the slots. Then we look at our predictions to find out who we predicted to win. From there we should be able to label the winning teams with their seed for the next round and continue on. "
   ]
  },
  {
   "cell_type": "code",
   "execution_count": 573,
   "metadata": {},
   "outputs": [],
   "source": [
    "'''Given two integers 0,8 for W round 1, return a list of Strong Seeds and a list of Weak Seeds'''\n",
    "def match_upID(int1:int,int2:int):\n",
    "    StrongSeed = df_slots2021.StrongSeed[int1:int2]\n",
    "    WeakSeed = df_slots2021.WeakSeed[int1:int2]\n",
    "    TeamID_Strong = [int(df_seeds2021.TeamID[df_seeds2021.Seed==seed]) for seed in StrongSeed]\n",
    "    TeamID_Weak = [int(df_seeds2021.TeamID[df_seeds2021.Seed==seed]) for seed in WeakSeed]\n",
    "    return TeamID_Strong,TeamID_Weak"
   ]
  },
  {
   "cell_type": "code",
   "execution_count": 574,
   "metadata": {},
   "outputs": [],
   "source": [
    "'''Given the TeamID of the strong and weak seed in the match up, which TeamName \n",
    "was predicted to be the winner''' \n",
    "def winners(strong:int,weak:int):\n",
    "    if strong > weak:\n",
    "        id_pred = '2021_'+str(weak)+'_'+str(strong)\n",
    "        pred = float(df_pred.Pred[df_pred.ID==id_pred])\n",
    "        print(pred)\n",
    "        if pred < 0.5:\n",
    "            win_teamID = strong\n",
    "            win_team = df_teams.loc[df_teams.TeamID == win_teamID,'TeamName'].iloc[0]\n",
    "            print(win_team)\n",
    "        elif pred > 0.5:\n",
    "            win_teamID = weak\n",
    "            win_team = df_teams.loc[df_teams.TeamID == win_teamID,'TeamName'].iloc[0]\n",
    "            print(win_team)\n",
    "    elif strong < weak:\n",
    "        id_pred = '2021_'+str(strong)+'_'+str(weak)\n",
    "        pred = float(df_pred.Pred[df_pred.ID==id_pred])\n",
    "        print(pred)\n",
    "        if pred < 0.5:\n",
    "            win_teamID = weak\n",
    "            win_team = df_teams.loc[df_teams.TeamID == win_teamID,'TeamName'].iloc[0]\n",
    "            print(win_team)\n",
    "        elif pred > 0.5:\n",
    "            win_teamID = strong\n",
    "            win_team = df_teams.loc[df_teams.TeamID == win_teamID,'TeamName'].iloc[0]\n",
    "            print(win_team)\n",
    "    return win_team"
   ]
  },
  {
   "cell_type": "code",
   "execution_count": 575,
   "metadata": {},
   "outputs": [],
   "source": [
    "'''Take the list of Strong TeamIDs and Weak TeamIDs, and use the winners function \n",
    "to make a dictionary of the winning team and the rank for the next round.'''\n",
    "def round_winners(strong_teams:list, weak_teams:list, end_rank:str):\n",
    "    rank = [end_rank+'{}'.format(i+1) for i in range(8)]\n",
    "    winning_teams = []\n",
    "    for i in range(len(strong_teams)):\n",
    "        strong_id = strong_teams[i]\n",
    "        weak_id = weak_teams[i]\n",
    "        winner = winners(strong_id, weak_id)\n",
    "        winning_teams.append(str(winner))\n",
    "    round_wins = dict(zip(winning_teams,rank))\n",
    "    return round_wins"
   ]
  },
  {
   "cell_type": "markdown",
   "metadata": {},
   "source": [
    "# Region: W\n",
    "# Round: 1"
   ]
  },
  {
   "cell_type": "code",
   "execution_count": 576,
   "metadata": {},
   "outputs": [
    {
     "data": {
      "text/plain": [
       "([1276, 1104, 1400, 1199, 1160, 1140, 1163, 1261],\n",
       " [1291, 1233, 1101, 1422, 1207, 1277, 1268, 1382])"
      ]
     },
     "execution_count": 576,
     "metadata": {},
     "output_type": "execute_result"
    }
   ],
   "source": [
    "TeamID_Strong, TeamID_Weak = match_upID(0,8)\n",
    "TeamID_Strong, TeamID_Weak"
   ]
  },
  {
   "cell_type": "code",
   "execution_count": 577,
   "metadata": {},
   "outputs": [
    {
     "name": "stdout",
     "output_type": "stream",
     "text": [
      "0.9950100000000001\n",
      "Michigan\n",
      "0.89418155\n",
      "Alabama\n",
      "0.123211145\n",
      "Texas\n",
      "0.79954004\n",
      "Florida St\n",
      "0.49994612\n",
      "Georgetown\n",
      "0.19828413\n",
      "Michigan St\n",
      "0.8232264000000001\n",
      "Connecticut\n",
      "0.523091\n",
      "LSU\n"
     ]
    },
    {
     "data": {
      "text/plain": [
       "{'Michigan': 'R1W1',\n",
       " 'Alabama': 'R1W2',\n",
       " 'Texas': 'R1W3',\n",
       " 'Florida St': 'R1W4',\n",
       " 'Georgetown': 'R1W5',\n",
       " 'Michigan St': 'R1W6',\n",
       " 'Connecticut': 'R1W7',\n",
       " 'LSU': 'R1W8'}"
      ]
     },
     "execution_count": 577,
     "metadata": {},
     "output_type": "execute_result"
    }
   ],
   "source": [
    "round1_w = round_winners(TeamID_Strong,TeamID_Weak,'R1W')\n",
    "round1_w"
   ]
  },
  {
   "cell_type": "markdown",
   "metadata": {},
   "source": [
    "# Region: W\n",
    "# Round: 2"
   ]
  },
  {
   "cell_type": "code",
   "execution_count": 578,
   "metadata": {},
   "outputs": [
    {
     "name": "stdout",
     "output_type": "stream",
     "text": [
      "[1276, 1104, 1400, 1199, 1207, 1277, 1163, 1261]\n"
     ]
    },
    {
     "data": {
      "text/plain": [
       "([1276, 1104, 1400, 1199], [1261, 1163, 1277, 1207])"
      ]
     },
     "execution_count": 578,
     "metadata": {},
     "output_type": "execute_result"
    }
   ],
   "source": [
    "IDs = [df_teams.loc[df_teams.TeamName==key,'TeamID'].iloc[0] for key in round1_w]\n",
    "print(IDs)\n",
    "TeamID_Strong = [IDs[i] for i in range(4)]\n",
    "TeamID_Weak = [IDs[i] for i in reversed(range(4,8))]\n",
    "TeamID_Strong, TeamID_Weak"
   ]
  },
  {
   "cell_type": "code",
   "execution_count": 579,
   "metadata": {},
   "outputs": [
    {
     "name": "stdout",
     "output_type": "stream",
     "text": [
      "0.022041498\n",
      "Michigan\n",
      "0.034147073\n",
      "Connecticut\n",
      "0.099247396\n",
      "Texas\n",
      "0.69937104\n",
      "Florida St\n"
     ]
    },
    {
     "data": {
      "text/plain": [
       "{'Michigan': 'R2W1',\n",
       " 'Connecticut': 'R2W2',\n",
       " 'Texas': 'R2W3',\n",
       " 'Florida St': 'R2W4'}"
      ]
     },
     "execution_count": 579,
     "metadata": {},
     "output_type": "execute_result"
    }
   ],
   "source": [
    "round2_w = round_winners(TeamID_Strong,TeamID_Weak,'R2W')\n",
    "round2_w"
   ]
  },
  {
   "cell_type": "markdown",
   "metadata": {},
   "source": [
    "# Region: W\n",
    "# Round: 3"
   ]
  },
  {
   "cell_type": "code",
   "execution_count": 580,
   "metadata": {},
   "outputs": [
    {
     "name": "stdout",
     "output_type": "stream",
     "text": [
      "[1276, 1163, 1400, 1199]\n"
     ]
    },
    {
     "data": {
      "text/plain": [
       "([1276, 1163], [1199, 1400])"
      ]
     },
     "execution_count": 580,
     "metadata": {},
     "output_type": "execute_result"
    }
   ],
   "source": [
    "IDs = [df_teams.loc[df_teams.TeamName==key,'TeamID'].iloc[0] for key in round2_w]\n",
    "print(IDs)\n",
    "TeamID_Strong = [IDs[i] for i in range(2)]\n",
    "TeamID_Weak = [IDs[i] for i in reversed(range(2,4))]\n",
    "TeamID_Strong, TeamID_Weak"
   ]
  },
  {
   "cell_type": "code",
   "execution_count": 581,
   "metadata": {},
   "outputs": [
    {
     "name": "stdout",
     "output_type": "stream",
     "text": [
      "0.010987321000000001\n",
      "Michigan\n",
      "0.88587695\n",
      "Connecticut\n"
     ]
    },
    {
     "data": {
      "text/plain": [
       "{'Michigan': 'R3W1', 'Connecticut': 'R3W2'}"
      ]
     },
     "execution_count": 581,
     "metadata": {},
     "output_type": "execute_result"
    }
   ],
   "source": [
    "round3_w = round_winners(TeamID_Strong,TeamID_Weak,'R3W')\n",
    "round3_w"
   ]
  },
  {
   "cell_type": "markdown",
   "metadata": {},
   "source": [
    "# Region: W\n",
    "# Round: 4"
   ]
  },
  {
   "cell_type": "code",
   "execution_count": 582,
   "metadata": {},
   "outputs": [
    {
     "name": "stdout",
     "output_type": "stream",
     "text": [
      "[1276, 1163]\n"
     ]
    },
    {
     "data": {
      "text/plain": [
       "(1276, 1163)"
      ]
     },
     "execution_count": 582,
     "metadata": {},
     "output_type": "execute_result"
    }
   ],
   "source": [
    "IDs = [df_teams.loc[df_teams.TeamName==key,'TeamID'].iloc[0] for key in round3_w]\n",
    "print(IDs)\n",
    "TeamID_Strong = IDs[0]\n",
    "TeamID_Weak = IDs[1]\n",
    "TeamID_Strong, TeamID_Weak"
   ]
  },
  {
   "cell_type": "code",
   "execution_count": 583,
   "metadata": {},
   "outputs": [
    {
     "name": "stdout",
     "output_type": "stream",
     "text": [
      "0.03231762\n",
      "Michigan\n"
     ]
    },
    {
     "data": {
      "text/plain": [
       "{'Michigan', 'R4W1'}"
      ]
     },
     "execution_count": 583,
     "metadata": {},
     "output_type": "execute_result"
    }
   ],
   "source": [
    "rank_for_5_w = 'R4W1'\n",
    "strong_id = TeamID_Strong\n",
    "weak_id = TeamID_Weak\n",
    "winner = winners(strong_id, weak_id)\n",
    "winner_w4 = winner\n",
    "round4_w = {winner_w4,rank_for_5_w}\n",
    "round4_w"
   ]
  },
  {
   "cell_type": "markdown",
   "metadata": {},
   "source": [
    "# Region: X\n",
    "# Round: 1"
   ]
  },
  {
   "cell_type": "code",
   "execution_count": 584,
   "metadata": {},
   "outputs": [
    {
     "data": {
      "text/plain": [
       "([1211, 1234, 1242, 1438, 1166, 1425, 1332, 1328],\n",
       " [1111, 1213, 1186, 1325, 1364, 1179, 1433, 1281])"
      ]
     },
     "execution_count": 584,
     "metadata": {},
     "output_type": "execute_result"
    }
   ],
   "source": [
    "TeamID_Strong, TeamID_Weak = match_upID(8,16)\n",
    "TeamID_Strong, TeamID_Weak"
   ]
  },
  {
   "cell_type": "code",
   "execution_count": 585,
   "metadata": {},
   "outputs": [
    {
     "name": "stdout",
     "output_type": "stream",
     "text": [
      "0.0006938986500000001\n",
      "Gonzaga\n",
      "0.006273976999999999\n",
      "Iowa\n",
      "7.169798e-05\n",
      "Kansas\n",
      "0.1676381\n",
      "Virginia\n",
      "0.9472164000000001\n",
      "Creighton\n",
      "0.640927\n",
      "Drake\n",
      "0.44566300000000003\n",
      "VCU\n",
      "0.5576659\n",
      "Missouri\n"
     ]
    },
    {
     "data": {
      "text/plain": [
       "{'Gonzaga': 'R1X1',\n",
       " 'Iowa': 'R1X2',\n",
       " 'Kansas': 'R1X3',\n",
       " 'Virginia': 'R1X4',\n",
       " 'Creighton': 'R1X5',\n",
       " 'Drake': 'R1X6',\n",
       " 'VCU': 'R1X7',\n",
       " 'Missouri': 'R1X8'}"
      ]
     },
     "execution_count": 585,
     "metadata": {},
     "output_type": "execute_result"
    }
   ],
   "source": [
    "round1_x = round_winners(TeamID_Strong,TeamID_Weak,'R1X')\n",
    "round1_x"
   ]
  },
  {
   "cell_type": "markdown",
   "metadata": {},
   "source": [
    "# Region: X\n",
    "# Round: 2"
   ]
  },
  {
   "cell_type": "code",
   "execution_count": 586,
   "metadata": {},
   "outputs": [
    {
     "name": "stdout",
     "output_type": "stream",
     "text": [
      "[1211, 1234, 1242, 1438, 1166, 1179, 1433, 1281]\n"
     ]
    },
    {
     "data": {
      "text/plain": [
       "([1211, 1234, 1242, 1438], [1281, 1433, 1179, 1166])"
      ]
     },
     "execution_count": 586,
     "metadata": {},
     "output_type": "execute_result"
    }
   ],
   "source": [
    "IDs = [df_teams.loc[df_teams.TeamName==key,'TeamID'].iloc[0] for key in round1_x]\n",
    "print(IDs)\n",
    "TeamID_Strong = [IDs[i] for i in range(4)]\n",
    "TeamID_Weak = [IDs[i] for i in reversed(range(4,8))]\n",
    "TeamID_Strong, TeamID_Weak"
   ]
  },
  {
   "cell_type": "code",
   "execution_count": 587,
   "metadata": {},
   "outputs": [
    {
     "name": "stdout",
     "output_type": "stream",
     "text": [
      "0.7196403\n",
      "Gonzaga\n",
      "0.97314507\n",
      "Iowa\n",
      "0.0040316815\n",
      "Kansas\n",
      "0.8855226\n",
      "Creighton\n"
     ]
    },
    {
     "data": {
      "text/plain": [
       "{'Gonzaga': 'R2X1', 'Iowa': 'R2X2', 'Kansas': 'R2X3', 'Creighton': 'R2X4'}"
      ]
     },
     "execution_count": 587,
     "metadata": {},
     "output_type": "execute_result"
    }
   ],
   "source": [
    "round2_x = round_winners(TeamID_Strong,TeamID_Weak,'R2X')\n",
    "round2_x"
   ]
  },
  {
   "cell_type": "markdown",
   "metadata": {},
   "source": [
    "# Region: X\n",
    "# Round: 3"
   ]
  },
  {
   "cell_type": "code",
   "execution_count": 588,
   "metadata": {},
   "outputs": [
    {
     "name": "stdout",
     "output_type": "stream",
     "text": [
      "[1211, 1234, 1242, 1166]\n"
     ]
    },
    {
     "data": {
      "text/plain": [
       "([1211, 1234], [1166, 1242])"
      ]
     },
     "execution_count": 588,
     "metadata": {},
     "output_type": "execute_result"
    }
   ],
   "source": [
    "IDs = [df_teams.loc[df_teams.TeamName==key,'TeamID'].iloc[0] for key in round2_x]\n",
    "print(IDs)\n",
    "TeamID_Strong = [IDs[i] for i in range(2)]\n",
    "TeamID_Weak = [IDs[i] for i in reversed(range(2,4))]\n",
    "TeamID_Strong, TeamID_Weak"
   ]
  },
  {
   "cell_type": "code",
   "execution_count": 589,
   "metadata": {},
   "outputs": [
    {
     "name": "stdout",
     "output_type": "stream",
     "text": [
      "0.00019070278000000003\n",
      "Gonzaga\n",
      "0.27701974\n",
      "Kansas\n"
     ]
    },
    {
     "data": {
      "text/plain": [
       "{'Gonzaga': 'R3X1', 'Kansas': 'R3X2'}"
      ]
     },
     "execution_count": 589,
     "metadata": {},
     "output_type": "execute_result"
    }
   ],
   "source": [
    "round3_x = round_winners(TeamID_Strong,TeamID_Weak,'R3X')\n",
    "round3_x"
   ]
  },
  {
   "cell_type": "markdown",
   "metadata": {},
   "source": [
    "# Region: X\n",
    "# Round: 4"
   ]
  },
  {
   "cell_type": "code",
   "execution_count": 590,
   "metadata": {},
   "outputs": [
    {
     "name": "stdout",
     "output_type": "stream",
     "text": [
      "[1211, 1242]\n"
     ]
    },
    {
     "data": {
      "text/plain": [
       "(1211, 1242)"
      ]
     },
     "execution_count": 590,
     "metadata": {},
     "output_type": "execute_result"
    }
   ],
   "source": [
    "IDs = [df_teams.loc[df_teams.TeamName==key,'TeamID'].iloc[0] for key in round3_x]\n",
    "print(IDs)\n",
    "TeamID_Strong = IDs[0]\n",
    "TeamID_Weak = IDs[1]\n",
    "TeamID_Strong, TeamID_Weak"
   ]
  },
  {
   "cell_type": "code",
   "execution_count": 591,
   "metadata": {},
   "outputs": [
    {
     "name": "stdout",
     "output_type": "stream",
     "text": [
      "0.24811538\n",
      "Kansas\n"
     ]
    },
    {
     "data": {
      "text/plain": [
       "{'Kansas', 'R4X1'}"
      ]
     },
     "execution_count": 591,
     "metadata": {},
     "output_type": "execute_result"
    }
   ],
   "source": [
    "rank_for_5_x = 'R4X1'\n",
    "strong_id = TeamID_Strong\n",
    "weak_id = TeamID_Weak\n",
    "winner = winners(strong_id, weak_id)\n",
    "winner_x4 = winner\n",
    "round4_x = {winner_x4,rank_for_5_x}\n",
    "round4_x"
   ]
  },
  {
   "cell_type": "markdown",
   "metadata": {},
   "source": [
    "# Region: Y\n",
    "# Round: 1"
   ]
  },
  {
   "cell_type": "code",
   "execution_count": 592,
   "metadata": {},
   "outputs": [
    {
     "data": {
      "text/plain": [
       "([1228, 1222, 1452, 1329, 1397, 1361, 1155, 1260],\n",
       " [1180, 1156, 1287, 1251, 1333, 1393, 1353, 1210])"
      ]
     },
     "execution_count": 592,
     "metadata": {},
     "output_type": "execute_result"
    }
   ],
   "source": [
    "TeamID_Strong, TeamID_Weak = match_upID(16,24)\n",
    "TeamID_Strong, TeamID_Weak"
   ]
  },
  {
   "cell_type": "code",
   "execution_count": 593,
   "metadata": {},
   "outputs": [
    {
     "name": "stdout",
     "output_type": "stream",
     "text": [
      "0.0015877353\n",
      "Illinois\n",
      "0.0011223365\n",
      "Houston\n",
      "0.008144338000000001\n",
      "West Virginia\n",
      "0.032172132\n",
      "Oklahoma St\n",
      "0.020022621\n",
      "Tennessee\n",
      "0.2729452\n",
      "Syracuse\n",
      "0.07893299\n",
      "Rutgers\n",
      "0.10876051\n",
      "Loyola-Chicago\n"
     ]
    },
    {
     "data": {
      "text/plain": [
       "{'Illinois': 'R1Y1',\n",
       " 'Houston': 'R1Y2',\n",
       " 'West Virginia': 'R1Y3',\n",
       " 'Oklahoma St': 'R1Y4',\n",
       " 'Tennessee': 'R1Y5',\n",
       " 'Syracuse': 'R1Y6',\n",
       " 'Rutgers': 'R1Y7',\n",
       " 'Loyola-Chicago': 'R1Y8'}"
      ]
     },
     "execution_count": 593,
     "metadata": {},
     "output_type": "execute_result"
    }
   ],
   "source": [
    "round1_y = round_winners(TeamID_Strong,TeamID_Weak,'R1Y')\n",
    "round1_y"
   ]
  },
  {
   "cell_type": "markdown",
   "metadata": {},
   "source": [
    "# Region: Y\n",
    "# Round: 2"
   ]
  },
  {
   "cell_type": "code",
   "execution_count": 594,
   "metadata": {},
   "outputs": [
    {
     "name": "stdout",
     "output_type": "stream",
     "text": [
      "[1228, 1222, 1452, 1329, 1397, 1393, 1353, 1260]\n"
     ]
    },
    {
     "data": {
      "text/plain": [
       "([1228, 1222, 1452, 1329], [1260, 1353, 1393, 1397])"
      ]
     },
     "execution_count": 594,
     "metadata": {},
     "output_type": "execute_result"
    }
   ],
   "source": [
    "IDs = [df_teams.loc[df_teams.TeamName==key,'TeamID'].iloc[0] for key in round1_y]\n",
    "print(IDs)\n",
    "TeamID_Strong = [IDs[i] for i in range(4)]\n",
    "TeamID_Weak = [IDs[i] for i in reversed(range(4,8))]\n",
    "TeamID_Strong, TeamID_Weak"
   ]
  },
  {
   "cell_type": "code",
   "execution_count": 595,
   "metadata": {},
   "outputs": [
    {
     "name": "stdout",
     "output_type": "stream",
     "text": [
      "0.7780925\n",
      "Illinois\n",
      "0.99727494\n",
      "Houston\n",
      "0.6835757\n",
      "Syracuse\n",
      "0.05393996\n",
      "Tennessee\n"
     ]
    },
    {
     "data": {
      "text/plain": [
       "{'Illinois': 'R2Y1',\n",
       " 'Houston': 'R2Y2',\n",
       " 'Syracuse': 'R2Y3',\n",
       " 'Tennessee': 'R2Y4'}"
      ]
     },
     "execution_count": 595,
     "metadata": {},
     "output_type": "execute_result"
    }
   ],
   "source": [
    "round2_y = round_winners(TeamID_Strong,TeamID_Weak,'R2Y')\n",
    "round2_y"
   ]
  },
  {
   "cell_type": "markdown",
   "metadata": {},
   "source": [
    "# Region: Y\n",
    "# Round: 3"
   ]
  },
  {
   "cell_type": "code",
   "execution_count": 596,
   "metadata": {},
   "outputs": [
    {
     "name": "stdout",
     "output_type": "stream",
     "text": [
      "[1228, 1222, 1393, 1397]\n"
     ]
    },
    {
     "data": {
      "text/plain": [
       "([1228, 1222], [1397, 1393])"
      ]
     },
     "execution_count": 596,
     "metadata": {},
     "output_type": "execute_result"
    }
   ],
   "source": [
    "IDs = [df_teams.loc[df_teams.TeamName==key,'TeamID'].iloc[0] for key in round2_y]\n",
    "print(IDs)\n",
    "TeamID_Strong = [IDs[i] for i in range(2)]\n",
    "TeamID_Weak = [IDs[i] for i in reversed(range(2,4))]\n",
    "TeamID_Strong, TeamID_Weak"
   ]
  },
  {
   "cell_type": "code",
   "execution_count": 597,
   "metadata": {},
   "outputs": [
    {
     "name": "stdout",
     "output_type": "stream",
     "text": [
      "0.9706971\n",
      "Illinois\n",
      "0.9158546000000001\n",
      "Houston\n"
     ]
    },
    {
     "data": {
      "text/plain": [
       "{'Illinois': 'R3Y1', 'Houston': 'R3Y2'}"
      ]
     },
     "execution_count": 597,
     "metadata": {},
     "output_type": "execute_result"
    }
   ],
   "source": [
    "round3_y = round_winners(TeamID_Strong,TeamID_Weak,'R3Y')\n",
    "round3_y"
   ]
  },
  {
   "cell_type": "markdown",
   "metadata": {},
   "source": [
    "# Region: Y\n",
    "# Round: 4"
   ]
  },
  {
   "cell_type": "code",
   "execution_count": 598,
   "metadata": {},
   "outputs": [
    {
     "name": "stdout",
     "output_type": "stream",
     "text": [
      "[1228, 1222]\n"
     ]
    },
    {
     "data": {
      "text/plain": [
       "(1228, 1222)"
      ]
     },
     "execution_count": 598,
     "metadata": {},
     "output_type": "execute_result"
    }
   ],
   "source": [
    "IDs = [df_teams.loc[df_teams.TeamName==key,'TeamID'].iloc[0] for key in round3_y]\n",
    "print(IDs)\n",
    "TeamID_Strong = IDs[0]\n",
    "TeamID_Weak = IDs[1]\n",
    "TeamID_Strong, TeamID_Weak"
   ]
  },
  {
   "cell_type": "code",
   "execution_count": 599,
   "metadata": {},
   "outputs": [
    {
     "name": "stdout",
     "output_type": "stream",
     "text": [
      "0.0031249332\n",
      "Illinois\n"
     ]
    },
    {
     "data": {
      "text/plain": [
       "{'Illinois', 'R4Y1'}"
      ]
     },
     "execution_count": 599,
     "metadata": {},
     "output_type": "execute_result"
    }
   ],
   "source": [
    "rank_for_5_y = 'R4Y1'\n",
    "strong_id = TeamID_Strong\n",
    "weak_id = TeamID_Weak\n",
    "winner = winners(strong_id, weak_id)\n",
    "winner_y4 = winner\n",
    "round4_y = {winner_y4,rank_for_5_y}\n",
    "round4_y"
   ]
  },
  {
   "cell_type": "markdown",
   "metadata": {},
   "source": [
    "# Region: Z\n",
    "# Round: 1"
   ]
  },
  {
   "cell_type": "code",
   "execution_count": 600,
   "metadata": {},
   "outputs": [
    {
     "data": {
      "text/plain": [
       "([1124, 1326, 1116, 1345, 1437, 1403, 1196, 1314],\n",
       " [1216, 1331, 1159, 1317, 1457, 1429, 1439, 1458])"
      ]
     },
     "execution_count": 600,
     "metadata": {},
     "output_type": "execute_result"
    }
   ],
   "source": [
    "TeamID_Strong, TeamID_Weak = match_upID(24,32)\n",
    "TeamID_Strong, TeamID_Weak"
   ]
  },
  {
   "cell_type": "code",
   "execution_count": 601,
   "metadata": {},
   "outputs": [
    {
     "name": "stdout",
     "output_type": "stream",
     "text": [
      "0.9941087\n",
      "Baylor\n",
      "0.96110046\n",
      "Ohio St\n",
      "0.071070045\n",
      "Colgate\n",
      "0.011253725\n",
      "Purdue\n",
      "0.93505806\n",
      "Villanova\n",
      "0.84096706\n",
      "Texas Tech\n",
      "0.40585133\n",
      "Virginia Tech\n",
      "0.19406347\n",
      "Wisconsin\n"
     ]
    },
    {
     "data": {
      "text/plain": [
       "{'Baylor': 'R1Z1',\n",
       " 'Ohio St': 'R1Z2',\n",
       " 'Colgate': 'R1Z3',\n",
       " 'Purdue': 'R1Z4',\n",
       " 'Villanova': 'R1Z5',\n",
       " 'Texas Tech': 'R1Z6',\n",
       " 'Virginia Tech': 'R1Z7',\n",
       " 'Wisconsin': 'R1Z8'}"
      ]
     },
     "execution_count": 601,
     "metadata": {},
     "output_type": "execute_result"
    }
   ],
   "source": [
    "round1_z = round_winners(TeamID_Strong,TeamID_Weak,'R1Z')\n",
    "round1_z"
   ]
  },
  {
   "cell_type": "markdown",
   "metadata": {},
   "source": [
    "# Region: Z\n",
    "# Round: 2"
   ]
  },
  {
   "cell_type": "code",
   "execution_count": 602,
   "metadata": {},
   "outputs": [
    {
     "name": "stdout",
     "output_type": "stream",
     "text": [
      "[1124, 1326, 1159, 1345, 1437, 1403, 1439, 1458]\n"
     ]
    },
    {
     "data": {
      "text/plain": [
       "([1124, 1326, 1159, 1345], [1458, 1439, 1403, 1437])"
      ]
     },
     "execution_count": 602,
     "metadata": {},
     "output_type": "execute_result"
    }
   ],
   "source": [
    "IDs = [df_teams.loc[df_teams.TeamName==key,'TeamID'].iloc[0] for key in round1_z]\n",
    "print(IDs)\n",
    "TeamID_Strong = [IDs[i] for i in range(4)]\n",
    "TeamID_Weak = [IDs[i] for i in reversed(range(4,8))]\n",
    "TeamID_Strong, TeamID_Weak"
   ]
  },
  {
   "cell_type": "code",
   "execution_count": 603,
   "metadata": {},
   "outputs": [
    {
     "name": "stdout",
     "output_type": "stream",
     "text": [
      "0.91007924\n",
      "Baylor\n",
      "0.95308226\n",
      "Ohio St\n",
      "0.018551443\n",
      "Texas Tech\n",
      "0.04858126\n",
      "Villanova\n"
     ]
    },
    {
     "data": {
      "text/plain": [
       "{'Baylor': 'R2Z1',\n",
       " 'Ohio St': 'R2Z2',\n",
       " 'Texas Tech': 'R2Z3',\n",
       " 'Villanova': 'R2Z4'}"
      ]
     },
     "execution_count": 603,
     "metadata": {},
     "output_type": "execute_result"
    }
   ],
   "source": [
    "round2_z = round_winners(TeamID_Strong,TeamID_Weak,'R2Z')\n",
    "round2_z"
   ]
  },
  {
   "cell_type": "markdown",
   "metadata": {},
   "source": [
    "# Region: Z\n",
    "# Round: 3"
   ]
  },
  {
   "cell_type": "code",
   "execution_count": 604,
   "metadata": {},
   "outputs": [
    {
     "name": "stdout",
     "output_type": "stream",
     "text": [
      "[1124, 1326, 1403, 1437]\n"
     ]
    },
    {
     "data": {
      "text/plain": [
       "([1124, 1326], [1437, 1403])"
      ]
     },
     "execution_count": 604,
     "metadata": {},
     "output_type": "execute_result"
    }
   ],
   "source": [
    "IDs = [df_teams.loc[df_teams.TeamName==key,'TeamID'].iloc[0] for key in round2_z]\n",
    "print(IDs)\n",
    "TeamID_Strong = [IDs[i] for i in range(2)]\n",
    "TeamID_Weak = [IDs[i] for i in reversed(range(2,4))]\n",
    "TeamID_Strong, TeamID_Weak"
   ]
  },
  {
   "cell_type": "code",
   "execution_count": 605,
   "metadata": {},
   "outputs": [
    {
     "name": "stdout",
     "output_type": "stream",
     "text": [
      "0.7910138000000001\n",
      "Baylor\n",
      "0.8542736999999999\n",
      "Ohio St\n"
     ]
    },
    {
     "data": {
      "text/plain": [
       "{'Baylor': 'R3Z1', 'Ohio St': 'R3Z2'}"
      ]
     },
     "execution_count": 605,
     "metadata": {},
     "output_type": "execute_result"
    }
   ],
   "source": [
    "round3_z = round_winners(TeamID_Strong,TeamID_Weak,'R3Z')\n",
    "round3_z"
   ]
  },
  {
   "cell_type": "markdown",
   "metadata": {},
   "source": [
    "# Region: Z\n",
    "# Round: 4"
   ]
  },
  {
   "cell_type": "code",
   "execution_count": 606,
   "metadata": {},
   "outputs": [
    {
     "name": "stdout",
     "output_type": "stream",
     "text": [
      "[1124, 1326]\n"
     ]
    },
    {
     "data": {
      "text/plain": [
       "(1124, 1326)"
      ]
     },
     "execution_count": 606,
     "metadata": {},
     "output_type": "execute_result"
    }
   ],
   "source": [
    "IDs = [df_teams.loc[df_teams.TeamName==key,'TeamID'].iloc[0] for key in round3_z]\n",
    "print(IDs)\n",
    "TeamID_Strong = IDs[0]\n",
    "TeamID_Weak = IDs[1]\n",
    "TeamID_Strong, TeamID_Weak"
   ]
  },
  {
   "cell_type": "code",
   "execution_count": 607,
   "metadata": {},
   "outputs": [
    {
     "name": "stdout",
     "output_type": "stream",
     "text": [
      "0.5710550999999999\n",
      "Baylor\n"
     ]
    },
    {
     "data": {
      "text/plain": [
       "{'Baylor', 'R4Z1'}"
      ]
     },
     "execution_count": 607,
     "metadata": {},
     "output_type": "execute_result"
    }
   ],
   "source": [
    "rank_for_5_z = 'R4Z1'\n",
    "strong_id = TeamID_Strong\n",
    "weak_id = TeamID_Weak\n",
    "winner = winners(strong_id, weak_id)\n",
    "winner_z4 = winner\n",
    "round4_z = {winner_z4,rank_for_5_z}\n",
    "round4_z"
   ]
  },
  {
   "cell_type": "markdown",
   "metadata": {},
   "source": [
    "# Region: W-X"
   ]
  },
  {
   "cell_type": "code",
   "execution_count": 608,
   "metadata": {},
   "outputs": [
    {
     "data": {
      "text/plain": [
       "(1276, 1242)"
      ]
     },
     "execution_count": 608,
     "metadata": {},
     "output_type": "execute_result"
    }
   ],
   "source": [
    "TeamID_Strong = df_teams.loc[df_teams.TeamName==winner_w4,'TeamID'].iloc[0]\n",
    "TeamID_Weak = df_teams.loc[df_teams.TeamName==winner_x4,'TeamID'].iloc[0]\n",
    "TeamID_Strong, TeamID_Weak"
   ]
  },
  {
   "cell_type": "code",
   "execution_count": 609,
   "metadata": {},
   "outputs": [
    {
     "name": "stdout",
     "output_type": "stream",
     "text": [
      "0.0031281090000000004\n",
      "Michigan\n"
     ]
    },
    {
     "data": {
      "text/plain": [
       "{'Michigan', 'R5WX'}"
      ]
     },
     "execution_count": 609,
     "metadata": {},
     "output_type": "execute_result"
    }
   ],
   "source": [
    "rank_for_ch_wx = 'R5WX'\n",
    "strong_id = TeamID_Strong\n",
    "weak_id = TeamID_Weak\n",
    "winner = winners(strong_id, weak_id)\n",
    "winner_wx = winner\n",
    "round5_wx = {winner_wx,rank_for_ch_wx}\n",
    "round5_wx"
   ]
  },
  {
   "cell_type": "markdown",
   "metadata": {},
   "source": [
    "# Region: Y-Z"
   ]
  },
  {
   "cell_type": "code",
   "execution_count": 610,
   "metadata": {},
   "outputs": [
    {
     "data": {
      "text/plain": [
       "(1228, 1124)"
      ]
     },
     "execution_count": 610,
     "metadata": {},
     "output_type": "execute_result"
    }
   ],
   "source": [
    "TeamID_Strong = df_teams.loc[df_teams.TeamName==winner_y4,'TeamID'].iloc[0]\n",
    "TeamID_Weak = df_teams.loc[df_teams.TeamName==winner_z4,'TeamID'].iloc[0]\n",
    "TeamID_Strong, TeamID_Weak"
   ]
  },
  {
   "cell_type": "code",
   "execution_count": 611,
   "metadata": {},
   "outputs": [
    {
     "name": "stdout",
     "output_type": "stream",
     "text": [
      "0.020854726\n",
      "Illinois\n"
     ]
    },
    {
     "data": {
      "text/plain": [
       "{'Illinois', 'R5YZ'}"
      ]
     },
     "execution_count": 611,
     "metadata": {},
     "output_type": "execute_result"
    }
   ],
   "source": [
    "rank_for_ch_yz = 'R5YZ'\n",
    "strong_id = TeamID_Strong\n",
    "weak_id = TeamID_Weak\n",
    "winner = winners(strong_id, weak_id)\n",
    "winner_yz = winner\n",
    "round5_yz = {winner_yz,rank_for_ch_yz}\n",
    "round5_yz"
   ]
  },
  {
   "cell_type": "markdown",
   "metadata": {},
   "source": [
    "# Championship"
   ]
  },
  {
   "cell_type": "code",
   "execution_count": 612,
   "metadata": {},
   "outputs": [
    {
     "data": {
      "text/plain": [
       "(1276, 1228)"
      ]
     },
     "execution_count": 612,
     "metadata": {},
     "output_type": "execute_result"
    }
   ],
   "source": [
    "TeamID_Strong = df_teams.loc[df_teams.TeamName==winner_wx,'TeamID'].iloc[0]\n",
    "TeamID_Weak = df_teams.loc[df_teams.TeamName==winner_yz,'TeamID'].iloc[0]\n",
    "TeamID_Strong, TeamID_Weak"
   ]
  },
  {
   "cell_type": "code",
   "execution_count": 613,
   "metadata": {},
   "outputs": [
    {
     "name": "stdout",
     "output_type": "stream",
     "text": [
      "0.015207883\n",
      "Michigan\n"
     ]
    },
    {
     "data": {
      "text/plain": [
       "{'Michigan', 'R6CH'}"
      ]
     },
     "execution_count": 613,
     "metadata": {},
     "output_type": "execute_result"
    }
   ],
   "source": [
    "rank_for_ch_yz = 'R6CH'\n",
    "strong_id = TeamID_Strong\n",
    "weak_id = TeamID_Weak\n",
    "winner = winners(strong_id, weak_id)\n",
    "winner_ch = winner\n",
    "round6_ch = {winner_ch,rank_for_ch_yz}\n",
    "round6_ch"
   ]
  },
  {
   "cell_type": "code",
   "execution_count": 614,
   "metadata": {},
   "outputs": [
    {
     "data": {
      "text/plain": [
       "1417"
      ]
     },
     "execution_count": 614,
     "metadata": {},
     "output_type": "execute_result"
    }
   ],
   "source": [
    "df_teams.loc[df_teams.TeamName=='UCLA','TeamID'].iloc[0]"
   ]
  },
  {
   "cell_type": "code",
   "execution_count": 615,
   "metadata": {},
   "outputs": [
    {
     "data": {
      "text/plain": [
       "1140"
      ]
     },
     "execution_count": 615,
     "metadata": {},
     "output_type": "execute_result"
    }
   ],
   "source": [
    "df_teams.loc[df_teams.TeamName=='BYU','TeamID'].iloc[0]"
   ]
  },
  {
   "cell_type": "code",
   "execution_count": 616,
   "metadata": {},
   "outputs": [],
   "source": [
    "ID_tag = '2021_1140_1417'"
   ]
  },
  {
   "cell_type": "code",
   "execution_count": 617,
   "metadata": {},
   "outputs": [
    {
     "data": {
      "text/html": [
       "<div>\n",
       "<style scoped>\n",
       "    .dataframe tbody tr th:only-of-type {\n",
       "        vertical-align: middle;\n",
       "    }\n",
       "\n",
       "    .dataframe tbody tr th {\n",
       "        vertical-align: top;\n",
       "    }\n",
       "\n",
       "    .dataframe thead th {\n",
       "        text-align: right;\n",
       "    }\n",
       "</style>\n",
       "<table border=\"1\" class=\"dataframe\">\n",
       "  <thead>\n",
       "    <tr style=\"text-align: right;\">\n",
       "      <th></th>\n",
       "      <th>ID</th>\n",
       "      <th>Pred</th>\n",
       "    </tr>\n",
       "  </thead>\n",
       "  <tbody>\n",
       "    <tr>\n",
       "      <th>375</th>\n",
       "      <td>2021_1140_1417</td>\n",
       "      <td>0.545678</td>\n",
       "    </tr>\n",
       "  </tbody>\n",
       "</table>\n",
       "</div>"
      ],
      "text/plain": [
       "                 ID      Pred\n",
       "375  2021_1140_1417  0.545678"
      ]
     },
     "execution_count": 617,
     "metadata": {},
     "output_type": "execute_result"
    }
   ],
   "source": [
    "df_pred[df_pred.ID==ID_tag]"
   ]
  },
  {
   "cell_type": "code",
   "execution_count": 618,
   "metadata": {},
   "outputs": [
    {
     "data": {
      "text/plain": [
       "1277"
      ]
     },
     "execution_count": 618,
     "metadata": {},
     "output_type": "execute_result"
    }
   ],
   "source": [
    "df_teams.loc[df_teams.TeamName=='Michigan St','TeamID'].iloc[0]"
   ]
  },
  {
   "cell_type": "code",
   "execution_count": 619,
   "metadata": {},
   "outputs": [],
   "source": [
    "ID_tag2 = '2021_1140_1277'"
   ]
  },
  {
   "cell_type": "code",
   "execution_count": 620,
   "metadata": {},
   "outputs": [
    {
     "data": {
      "text/html": [
       "<div>\n",
       "<style scoped>\n",
       "    .dataframe tbody tr th:only-of-type {\n",
       "        vertical-align: middle;\n",
       "    }\n",
       "\n",
       "    .dataframe tbody tr th {\n",
       "        vertical-align: top;\n",
       "    }\n",
       "\n",
       "    .dataframe thead th {\n",
       "        text-align: right;\n",
       "    }\n",
       "</style>\n",
       "<table border=\"1\" class=\"dataframe\">\n",
       "  <thead>\n",
       "    <tr style=\"text-align: right;\">\n",
       "      <th></th>\n",
       "      <th>ID</th>\n",
       "      <th>Pred</th>\n",
       "    </tr>\n",
       "  </thead>\n",
       "  <tbody>\n",
       "    <tr>\n",
       "      <th>351</th>\n",
       "      <td>2021_1140_1277</td>\n",
       "      <td>0.198284</td>\n",
       "    </tr>\n",
       "  </tbody>\n",
       "</table>\n",
       "</div>"
      ],
      "text/plain": [
       "                 ID      Pred\n",
       "351  2021_1140_1277  0.198284"
      ]
     },
     "execution_count": 620,
     "metadata": {},
     "output_type": "execute_result"
    }
   ],
   "source": [
    "df_pred[df_pred.ID==ID_tag2]"
   ]
  },
  {
   "cell_type": "code",
   "execution_count": null,
   "metadata": {},
   "outputs": [],
   "source": []
  },
  {
   "cell_type": "code",
   "execution_count": null,
   "metadata": {},
   "outputs": [],
   "source": []
  }
 ],
 "metadata": {
  "kernelspec": {
   "display_name": "Python 3",
   "language": "python",
   "name": "python3"
  },
  "language_info": {
   "codemirror_mode": {
    "name": "ipython",
    "version": 3
   },
   "file_extension": ".py",
   "mimetype": "text/x-python",
   "name": "python",
   "nbconvert_exporter": "python",
   "pygments_lexer": "ipython3",
   "version": "3.7.6"
  }
 },
 "nbformat": 4,
 "nbformat_minor": 4
}
