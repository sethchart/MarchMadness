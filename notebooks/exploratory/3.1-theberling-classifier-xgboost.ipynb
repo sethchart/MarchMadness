{
 "cells": [
  {
   "cell_type": "markdown",
   "metadata": {},
   "source": [
    "Let's see how we do with xgboost"
   ]
  },
  {
   "cell_type": "code",
   "execution_count": 1,
   "metadata": {},
   "outputs": [],
   "source": [
    "import pandas as pd\n",
    "\n",
    "from xgboost import XGBClassifier\n",
    "# Import RandomForestClassifier and GradientBoostingClassifer\n",
    "from sklearn.ensemble import RandomForestClassifier, GradientBoostingClassifier\n",
    "\n",
    "# Function for splitting training and test set\n",
    "from sklearn.model_selection import train_test_split\n",
    "# Function for creating model pipelines\n",
    "from sklearn.pipeline import make_pipeline\n",
    "# For standardization\n",
    "from sklearn.preprocessing import StandardScaler\n",
    "# Helper for cross-validation\n",
    "from sklearn.model_selection import GridSearchCV\n",
    "from sklearn.metrics import accuracy_score"
   ]
  },
  {
   "cell_type": "markdown",
   "metadata": {},
   "source": [
    "Let's load in the dataset from the processed data folder."
   ]
  },
  {
   "cell_type": "code",
   "execution_count": 7,
   "metadata": {},
   "outputs": [
    {
     "data": {
      "text/html": [
       "<div>\n",
       "<style scoped>\n",
       "    .dataframe tbody tr th:only-of-type {\n",
       "        vertical-align: middle;\n",
       "    }\n",
       "\n",
       "    .dataframe tbody tr th {\n",
       "        vertical-align: top;\n",
       "    }\n",
       "\n",
       "    .dataframe thead th {\n",
       "        text-align: right;\n",
       "    }\n",
       "</style>\n",
       "<table border=\"1\" class=\"dataframe\">\n",
       "  <thead>\n",
       "    <tr style=\"text-align: right;\">\n",
       "      <th></th>\n",
       "      <th>Unnamed: 0</th>\n",
       "      <th>Season</th>\n",
       "      <th>LowID</th>\n",
       "      <th>HighID</th>\n",
       "      <th>Win</th>\n",
       "      <th>LowScore</th>\n",
       "      <th>LowFGP</th>\n",
       "      <th>LowFGP3</th>\n",
       "      <th>LowFTP</th>\n",
       "      <th>LowOR</th>\n",
       "      <th>...</th>\n",
       "      <th>HighFTP</th>\n",
       "      <th>HighOR</th>\n",
       "      <th>HighDR</th>\n",
       "      <th>HighAst</th>\n",
       "      <th>HighTO</th>\n",
       "      <th>HighStl</th>\n",
       "      <th>HighBlk</th>\n",
       "      <th>HighPF</th>\n",
       "      <th>HighRank</th>\n",
       "      <th>HighSeed</th>\n",
       "    </tr>\n",
       "  </thead>\n",
       "  <tbody>\n",
       "    <tr>\n",
       "      <th>0</th>\n",
       "      <td>0</td>\n",
       "      <td>2003</td>\n",
       "      <td>1411</td>\n",
       "      <td>1421</td>\n",
       "      <td>0</td>\n",
       "      <td>72.800000</td>\n",
       "      <td>0.448892</td>\n",
       "      <td>0.321414</td>\n",
       "      <td>0.613745</td>\n",
       "      <td>13.166667</td>\n",
       "      <td>...</td>\n",
       "      <td>0.766142</td>\n",
       "      <td>12.275862</td>\n",
       "      <td>23.172414</td>\n",
       "      <td>13.034483</td>\n",
       "      <td>16.206897</td>\n",
       "      <td>7.068966</td>\n",
       "      <td>3.000000</td>\n",
       "      <td>19.103448</td>\n",
       "      <td>240.343750</td>\n",
       "      <td>16.0</td>\n",
       "    </tr>\n",
       "    <tr>\n",
       "      <th>1</th>\n",
       "      <td>1</td>\n",
       "      <td>2003</td>\n",
       "      <td>1112</td>\n",
       "      <td>1436</td>\n",
       "      <td>1</td>\n",
       "      <td>85.214286</td>\n",
       "      <td>0.463563</td>\n",
       "      <td>0.351060</td>\n",
       "      <td>0.701154</td>\n",
       "      <td>15.178571</td>\n",
       "      <td>...</td>\n",
       "      <td>0.649708</td>\n",
       "      <td>12.965517</td>\n",
       "      <td>25.724138</td>\n",
       "      <td>14.206897</td>\n",
       "      <td>14.068966</td>\n",
       "      <td>6.862069</td>\n",
       "      <td>2.965517</td>\n",
       "      <td>15.896552</td>\n",
       "      <td>153.125000</td>\n",
       "      <td>16.0</td>\n",
       "    </tr>\n",
       "    <tr>\n",
       "      <th>2</th>\n",
       "      <td>2</td>\n",
       "      <td>2003</td>\n",
       "      <td>1113</td>\n",
       "      <td>1272</td>\n",
       "      <td>1</td>\n",
       "      <td>75.965517</td>\n",
       "      <td>0.481680</td>\n",
       "      <td>0.328376</td>\n",
       "      <td>0.675667</td>\n",
       "      <td>13.689655</td>\n",
       "      <td>...</td>\n",
       "      <td>0.628299</td>\n",
       "      <td>14.068966</td>\n",
       "      <td>25.965517</td>\n",
       "      <td>16.620690</td>\n",
       "      <td>13.793103</td>\n",
       "      <td>7.379310</td>\n",
       "      <td>5.068966</td>\n",
       "      <td>18.758621</td>\n",
       "      <td>21.705882</td>\n",
       "      <td>7.0</td>\n",
       "    </tr>\n",
       "    <tr>\n",
       "      <th>3</th>\n",
       "      <td>3</td>\n",
       "      <td>2003</td>\n",
       "      <td>1141</td>\n",
       "      <td>1166</td>\n",
       "      <td>1</td>\n",
       "      <td>79.344828</td>\n",
       "      <td>0.506349</td>\n",
       "      <td>0.377481</td>\n",
       "      <td>0.762741</td>\n",
       "      <td>10.586207</td>\n",
       "      <td>...</td>\n",
       "      <td>0.689707</td>\n",
       "      <td>10.878788</td>\n",
       "      <td>23.181818</td>\n",
       "      <td>16.818182</td>\n",
       "      <td>13.363636</td>\n",
       "      <td>8.393939</td>\n",
       "      <td>4.454545</td>\n",
       "      <td>17.272727</td>\n",
       "      <td>20.735294</td>\n",
       "      <td>6.0</td>\n",
       "    </tr>\n",
       "    <tr>\n",
       "      <th>4</th>\n",
       "      <td>4</td>\n",
       "      <td>2003</td>\n",
       "      <td>1143</td>\n",
       "      <td>1301</td>\n",
       "      <td>1</td>\n",
       "      <td>74.482759</td>\n",
       "      <td>0.468741</td>\n",
       "      <td>0.375934</td>\n",
       "      <td>0.688632</td>\n",
       "      <td>11.241379</td>\n",
       "      <td>...</td>\n",
       "      <td>0.778148</td>\n",
       "      <td>9.733333</td>\n",
       "      <td>22.033333</td>\n",
       "      <td>14.666667</td>\n",
       "      <td>14.200000</td>\n",
       "      <td>7.766667</td>\n",
       "      <td>3.066667</td>\n",
       "      <td>18.666667</td>\n",
       "      <td>50.312500</td>\n",
       "      <td>9.0</td>\n",
       "    </tr>\n",
       "  </tbody>\n",
       "</table>\n",
       "<p>5 rows × 31 columns</p>\n",
       "</div>"
      ],
      "text/plain": [
       "   Unnamed: 0  Season  LowID  HighID  Win   LowScore    LowFGP   LowFGP3  \\\n",
       "0           0    2003   1411    1421    0  72.800000  0.448892  0.321414   \n",
       "1           1    2003   1112    1436    1  85.214286  0.463563  0.351060   \n",
       "2           2    2003   1113    1272    1  75.965517  0.481680  0.328376   \n",
       "3           3    2003   1141    1166    1  79.344828  0.506349  0.377481   \n",
       "4           4    2003   1143    1301    1  74.482759  0.468741  0.375934   \n",
       "\n",
       "     LowFTP      LowOR  ...   HighFTP     HighOR     HighDR    HighAst  \\\n",
       "0  0.613745  13.166667  ...  0.766142  12.275862  23.172414  13.034483   \n",
       "1  0.701154  15.178571  ...  0.649708  12.965517  25.724138  14.206897   \n",
       "2  0.675667  13.689655  ...  0.628299  14.068966  25.965517  16.620690   \n",
       "3  0.762741  10.586207  ...  0.689707  10.878788  23.181818  16.818182   \n",
       "4  0.688632  11.241379  ...  0.778148   9.733333  22.033333  14.666667   \n",
       "\n",
       "      HighTO   HighStl   HighBlk     HighPF    HighRank  HighSeed  \n",
       "0  16.206897  7.068966  3.000000  19.103448  240.343750      16.0  \n",
       "1  14.068966  6.862069  2.965517  15.896552  153.125000      16.0  \n",
       "2  13.793103  7.379310  5.068966  18.758621   21.705882       7.0  \n",
       "3  13.363636  8.393939  4.454545  17.272727   20.735294       6.0  \n",
       "4  14.200000  7.766667  3.066667  18.666667   50.312500       9.0  \n",
       "\n",
       "[5 rows x 31 columns]"
      ]
     },
     "execution_count": 7,
     "metadata": {},
     "output_type": "execute_result"
    }
   ],
   "source": [
    "df = pd.read_csv('../../data/processed/model_dataset.csv')\n",
    "df.head()"
   ]
  },
  {
   "cell_type": "code",
   "execution_count": 12,
   "metadata": {},
   "outputs": [
    {
     "data": {
      "text/plain": [
       "array(['Unnamed: 0', 'Season', 'LowID', 'HighID', 'Win', 'LowScore',\n",
       "       'LowFGP', 'LowFGP3', 'LowFTP', 'LowOR', 'LowDR', 'LowAst', 'LowTO',\n",
       "       'LowStl', 'LowBlk', 'LowPF', 'LowRank', 'LowSeed', 'HighScore',\n",
       "       'HighFGP', 'HighFGP3', 'HighFTP', 'HighOR', 'HighDR', 'HighAst',\n",
       "       'HighTO', 'HighStl', 'HighBlk', 'HighPF', 'HighRank', 'HighSeed'],\n",
       "      dtype=object)"
      ]
     },
     "execution_count": 12,
     "metadata": {},
     "output_type": "execute_result"
    }
   ],
   "source": [
    "df.columns.values"
   ]
  },
  {
   "cell_type": "code",
   "execution_count": 13,
   "metadata": {},
   "outputs": [
    {
     "data": {
      "text/html": [
       "<div>\n",
       "<style scoped>\n",
       "    .dataframe tbody tr th:only-of-type {\n",
       "        vertical-align: middle;\n",
       "    }\n",
       "\n",
       "    .dataframe tbody tr th {\n",
       "        vertical-align: top;\n",
       "    }\n",
       "\n",
       "    .dataframe thead th {\n",
       "        text-align: right;\n",
       "    }\n",
       "</style>\n",
       "<table border=\"1\" class=\"dataframe\">\n",
       "  <thead>\n",
       "    <tr style=\"text-align: right;\">\n",
       "      <th></th>\n",
       "      <th>Season</th>\n",
       "      <th>LowID</th>\n",
       "      <th>HighID</th>\n",
       "      <th>Win</th>\n",
       "      <th>LowScore</th>\n",
       "      <th>LowFGP</th>\n",
       "      <th>LowFGP3</th>\n",
       "      <th>LowFTP</th>\n",
       "      <th>LowOR</th>\n",
       "      <th>LowDR</th>\n",
       "      <th>...</th>\n",
       "      <th>HighFTP</th>\n",
       "      <th>HighOR</th>\n",
       "      <th>HighDR</th>\n",
       "      <th>HighAst</th>\n",
       "      <th>HighTO</th>\n",
       "      <th>HighStl</th>\n",
       "      <th>HighBlk</th>\n",
       "      <th>HighPF</th>\n",
       "      <th>HighRank</th>\n",
       "      <th>HighSeed</th>\n",
       "    </tr>\n",
       "  </thead>\n",
       "  <tbody>\n",
       "    <tr>\n",
       "      <th>0</th>\n",
       "      <td>2003</td>\n",
       "      <td>1411</td>\n",
       "      <td>1421</td>\n",
       "      <td>0</td>\n",
       "      <td>72.800000</td>\n",
       "      <td>0.448892</td>\n",
       "      <td>0.321414</td>\n",
       "      <td>0.613745</td>\n",
       "      <td>13.166667</td>\n",
       "      <td>24.800000</td>\n",
       "      <td>...</td>\n",
       "      <td>0.766142</td>\n",
       "      <td>12.275862</td>\n",
       "      <td>23.172414</td>\n",
       "      <td>13.034483</td>\n",
       "      <td>16.206897</td>\n",
       "      <td>7.068966</td>\n",
       "      <td>3.000000</td>\n",
       "      <td>19.103448</td>\n",
       "      <td>240.343750</td>\n",
       "      <td>16.0</td>\n",
       "    </tr>\n",
       "    <tr>\n",
       "      <th>1</th>\n",
       "      <td>2003</td>\n",
       "      <td>1112</td>\n",
       "      <td>1436</td>\n",
       "      <td>1</td>\n",
       "      <td>85.214286</td>\n",
       "      <td>0.463563</td>\n",
       "      <td>0.351060</td>\n",
       "      <td>0.701154</td>\n",
       "      <td>15.178571</td>\n",
       "      <td>27.642857</td>\n",
       "      <td>...</td>\n",
       "      <td>0.649708</td>\n",
       "      <td>12.965517</td>\n",
       "      <td>25.724138</td>\n",
       "      <td>14.206897</td>\n",
       "      <td>14.068966</td>\n",
       "      <td>6.862069</td>\n",
       "      <td>2.965517</td>\n",
       "      <td>15.896552</td>\n",
       "      <td>153.125000</td>\n",
       "      <td>16.0</td>\n",
       "    </tr>\n",
       "    <tr>\n",
       "      <th>2</th>\n",
       "      <td>2003</td>\n",
       "      <td>1113</td>\n",
       "      <td>1272</td>\n",
       "      <td>1</td>\n",
       "      <td>75.965517</td>\n",
       "      <td>0.481680</td>\n",
       "      <td>0.328376</td>\n",
       "      <td>0.675667</td>\n",
       "      <td>13.689655</td>\n",
       "      <td>23.310345</td>\n",
       "      <td>...</td>\n",
       "      <td>0.628299</td>\n",
       "      <td>14.068966</td>\n",
       "      <td>25.965517</td>\n",
       "      <td>16.620690</td>\n",
       "      <td>13.793103</td>\n",
       "      <td>7.379310</td>\n",
       "      <td>5.068966</td>\n",
       "      <td>18.758621</td>\n",
       "      <td>21.705882</td>\n",
       "      <td>7.0</td>\n",
       "    </tr>\n",
       "    <tr>\n",
       "      <th>3</th>\n",
       "      <td>2003</td>\n",
       "      <td>1141</td>\n",
       "      <td>1166</td>\n",
       "      <td>1</td>\n",
       "      <td>79.344828</td>\n",
       "      <td>0.506349</td>\n",
       "      <td>0.377481</td>\n",
       "      <td>0.762741</td>\n",
       "      <td>10.586207</td>\n",
       "      <td>23.275862</td>\n",
       "      <td>...</td>\n",
       "      <td>0.689707</td>\n",
       "      <td>10.878788</td>\n",
       "      <td>23.181818</td>\n",
       "      <td>16.818182</td>\n",
       "      <td>13.363636</td>\n",
       "      <td>8.393939</td>\n",
       "      <td>4.454545</td>\n",
       "      <td>17.272727</td>\n",
       "      <td>20.735294</td>\n",
       "      <td>6.0</td>\n",
       "    </tr>\n",
       "    <tr>\n",
       "      <th>4</th>\n",
       "      <td>2003</td>\n",
       "      <td>1143</td>\n",
       "      <td>1301</td>\n",
       "      <td>1</td>\n",
       "      <td>74.482759</td>\n",
       "      <td>0.468741</td>\n",
       "      <td>0.375934</td>\n",
       "      <td>0.688632</td>\n",
       "      <td>11.241379</td>\n",
       "      <td>24.379310</td>\n",
       "      <td>...</td>\n",
       "      <td>0.778148</td>\n",
       "      <td>9.733333</td>\n",
       "      <td>22.033333</td>\n",
       "      <td>14.666667</td>\n",
       "      <td>14.200000</td>\n",
       "      <td>7.766667</td>\n",
       "      <td>3.066667</td>\n",
       "      <td>18.666667</td>\n",
       "      <td>50.312500</td>\n",
       "      <td>9.0</td>\n",
       "    </tr>\n",
       "  </tbody>\n",
       "</table>\n",
       "<p>5 rows × 30 columns</p>\n",
       "</div>"
      ],
      "text/plain": [
       "   Season  LowID  HighID  Win   LowScore    LowFGP   LowFGP3    LowFTP  \\\n",
       "0    2003   1411    1421    0  72.800000  0.448892  0.321414  0.613745   \n",
       "1    2003   1112    1436    1  85.214286  0.463563  0.351060  0.701154   \n",
       "2    2003   1113    1272    1  75.965517  0.481680  0.328376  0.675667   \n",
       "3    2003   1141    1166    1  79.344828  0.506349  0.377481  0.762741   \n",
       "4    2003   1143    1301    1  74.482759  0.468741  0.375934  0.688632   \n",
       "\n",
       "       LowOR      LowDR  ...   HighFTP     HighOR     HighDR    HighAst  \\\n",
       "0  13.166667  24.800000  ...  0.766142  12.275862  23.172414  13.034483   \n",
       "1  15.178571  27.642857  ...  0.649708  12.965517  25.724138  14.206897   \n",
       "2  13.689655  23.310345  ...  0.628299  14.068966  25.965517  16.620690   \n",
       "3  10.586207  23.275862  ...  0.689707  10.878788  23.181818  16.818182   \n",
       "4  11.241379  24.379310  ...  0.778148   9.733333  22.033333  14.666667   \n",
       "\n",
       "      HighTO   HighStl   HighBlk     HighPF    HighRank  HighSeed  \n",
       "0  16.206897  7.068966  3.000000  19.103448  240.343750      16.0  \n",
       "1  14.068966  6.862069  2.965517  15.896552  153.125000      16.0  \n",
       "2  13.793103  7.379310  5.068966  18.758621   21.705882       7.0  \n",
       "3  13.363636  8.393939  4.454545  17.272727   20.735294       6.0  \n",
       "4  14.200000  7.766667  3.066667  18.666667   50.312500       9.0  \n",
       "\n",
       "[5 rows x 30 columns]"
      ]
     },
     "execution_count": 13,
     "metadata": {},
     "output_type": "execute_result"
    }
   ],
   "source": [
    "df = df.drop(columns = ['Unnamed: 0'])\n",
    "df.head()"
   ]
  },
  {
   "cell_type": "markdown",
   "metadata": {},
   "source": [
    "We need to split the data so it's the target and input features."
   ]
  },
  {
   "cell_type": "code",
   "execution_count": 17,
   "metadata": {},
   "outputs": [],
   "source": [
    "# Create separate object for target variable\n",
    "y = df.Win\n",
    "\n",
    "# Create separate object for input features\n",
    "X = df.drop('Win', axis=1)"
   ]
  },
  {
   "cell_type": "markdown",
   "metadata": {},
   "source": [
    "Split into training and test data with 20% of the observations going to the test set. We also give it a random state so we can reproduce the results."
   ]
  },
  {
   "cell_type": "code",
   "execution_count": 18,
   "metadata": {},
   "outputs": [
    {
     "name": "stdout",
     "output_type": "stream",
     "text": [
      "892 223 892 223\n"
     ]
    }
   ],
   "source": [
    "# Split X and y into train and test sets\n",
    "X_train, X_test, y_train, y_test = train_test_split(X, y, test_size = 0.2, random_state=1234)\n",
    "\n",
    "# Print number of observations in X_train, X_test, y_train, and y_test\n",
    "print(len(X_train), len(X_test), len(y_train), len(y_test))"
   ]
  },
  {
   "cell_type": "markdown",
   "metadata": {},
   "source": [
    "Ok time for pipelines. "
   ]
  },
  {
   "cell_type": "code",
   "execution_count": 54,
   "metadata": {},
   "outputs": [],
   "source": [
    "# Pipeline dictionary\n",
    "pipelines = {\n",
    "    'xg': make_pipeline(StandardScaler(),XGBClassifier(random_state=123)),\n",
    "    'gb': make_pipeline(StandardScaler(),GradientBoostingClassifier(random_state=123))\n",
    "            }"
   ]
  },
  {
   "cell_type": "code",
   "execution_count": 55,
   "metadata": {},
   "outputs": [],
   "source": [
    "# Boosted Tree hyperparameters\n",
    "gb_hyperparameters = {'gradientboostingclassifier__n_estimators': [200],\n",
    "                     'gradientboostingclassifier__learning_rate': [0.05],\n",
    "                     'gradientboostingclassifier__max_depth': [1]}"
   ]
  },
  {
   "cell_type": "code",
   "execution_count": 59,
   "metadata": {},
   "outputs": [],
   "source": [
    "# Boosted Tree hyperparameters\n",
    "xg_hyperparameters = {\n",
    "'xgbclassifier__max_depth': range (2, 10, 1),\n",
    "    'xgbclassifier__n_estimators': range(60, 220, 40),\n",
    "    'xgbclassifier__learning_rate': [0.1, 0.01, 0.05]\n",
    "}"
   ]
  },
  {
   "cell_type": "code",
   "execution_count": 60,
   "metadata": {},
   "outputs": [],
   "source": [
    "# Create hyperparameters dictionary\n",
    "hyperparameters = {\n",
    "    'xg': xg_hyperparameters,\n",
    "    'gb': gb_hyperparameters\n",
    "}"
   ]
  },
  {
   "cell_type": "code",
   "execution_count": 61,
   "metadata": {},
   "outputs": [
    {
     "name": "stdout",
     "output_type": "stream",
     "text": [
      "xg has beed fitted\n",
      "gb has beed fitted\n"
     ]
    }
   ],
   "source": [
    "# Create empty dictionary called fitted_models\n",
    "fitted_models = {}\n",
    "\n",
    "# Loop through model pipelines, tuning each one and saving it to fitted_models\n",
    "for name, pipeline in pipelines.items():\n",
    "    # Create cross-validation object from pipeline and hyperparameters\n",
    "    model = GridSearchCV(pipeline, hyperparameters[name], cv=10, n_jobs=-1, scoring='neg_log_loss')\n",
    "    \n",
    "    # Fit model on X_train, y_train\n",
    "    model.fit(X_train,y_train)\n",
    "    \n",
    "    # Store model in fitted_models[name] \n",
    "    fitted_models[name] = model\n",
    "    \n",
    "    # Print '{name} has been fitted'\n",
    "    print(name, 'has been fitted')"
   ]
  },
  {
   "cell_type": "code",
   "execution_count": 63,
   "metadata": {},
   "outputs": [
    {
     "data": {
      "text/plain": [
       "GridSearchCV(cv=10, error_score=nan,\n",
       "             estimator=Pipeline(memory=None,\n",
       "                                steps=[('standardscaler',\n",
       "                                        StandardScaler(copy=True,\n",
       "                                                       with_mean=True,\n",
       "                                                       with_std=True)),\n",
       "                                       ('xgbclassifier',\n",
       "                                        XGBClassifier(base_score=0.5,\n",
       "                                                      booster='gbtree',\n",
       "                                                      colsample_bylevel=1,\n",
       "                                                      colsample_bynode=1,\n",
       "                                                      colsample_bytree=1,\n",
       "                                                      gamma=0,\n",
       "                                                      learning_rate=0.1,\n",
       "                                                      max_delta_step=0,\n",
       "                                                      max_depth=3,\n",
       "                                                      min_child_weight=1,\n",
       "                                                      missing=...\n",
       "                                                      reg_alpha=0, reg_lambda=1,\n",
       "                                                      scale_pos_weight=1,\n",
       "                                                      seed=None, silent=None,\n",
       "                                                      subsample=1,\n",
       "                                                      verbosity=1))],\n",
       "                                verbose=False),\n",
       "             iid='deprecated', n_jobs=-1,\n",
       "             param_grid={'xgbclassifier__learning_rate': [0.1, 0.01, 0.05],\n",
       "                         'xgbclassifier__max_depth': range(2, 10),\n",
       "                         'xgbclassifier__n_estimators': range(60, 220, 40)},\n",
       "             pre_dispatch='2*n_jobs', refit=True, return_train_score=False,\n",
       "             scoring='neg_log_loss', verbose=0)"
      ]
     },
     "execution_count": 63,
     "metadata": {},
     "output_type": "execute_result"
    }
   ],
   "source": [
    "fitted_models['xg']"
   ]
  },
  {
   "cell_type": "code",
   "execution_count": 64,
   "metadata": {},
   "outputs": [],
   "source": [
    "model_xg = fitted_models['xg']"
   ]
  },
  {
   "cell_type": "code",
   "execution_count": 65,
   "metadata": {},
   "outputs": [],
   "source": [
    "y_pred = model_xg.predict(X_test)\n",
    "predictions = [round(value) for value in y_pred]"
   ]
  },
  {
   "cell_type": "code",
   "execution_count": 66,
   "metadata": {},
   "outputs": [
    {
     "name": "stdout",
     "output_type": "stream",
     "text": [
      "0.6905829596412556\n"
     ]
    }
   ],
   "source": [
    "accuracy = accuracy_score(y_test, predictions)\n",
    "print(accuracy)"
   ]
  },
  {
   "cell_type": "markdown",
   "metadata": {},
   "source": [
    "If I play around by hand I can get a little bit better accuracy."
   ]
  },
  {
   "cell_type": "code",
   "execution_count": 29,
   "metadata": {},
   "outputs": [],
   "source": [
    "model = XGBClassifier(base_score=0.5, colsample_bylevel=1, colsample_bytree=1,\n",
    "       gamma=0, learning_rate=0.5, max_delta_step=2, max_depth=10,\n",
    "       min_child_weight=1, missing=None, n_estimators=300, nthread=-1,reg_alpha=0, reg_lambda=1,\n",
    "       scale_pos_weight=1, seed=0, silent=True, subsample=1)"
   ]
  },
  {
   "cell_type": "code",
   "execution_count": 30,
   "metadata": {},
   "outputs": [
    {
     "data": {
      "text/plain": [
       "XGBClassifier(base_score=0.5, booster='gbtree', colsample_bylevel=1,\n",
       "              colsample_bynode=1, colsample_bytree=1, gamma=0,\n",
       "              learning_rate=0.5, max_delta_step=2, max_depth=10,\n",
       "              min_child_weight=1, missing=None, n_estimators=300, n_jobs=1,\n",
       "              nthread=-1, objective='binary:logistic', random_state=0,\n",
       "              reg_alpha=0, reg_lambda=1, scale_pos_weight=1, seed=0,\n",
       "              silent=True, subsample=1, verbosity=1)"
      ]
     },
     "execution_count": 30,
     "metadata": {},
     "output_type": "execute_result"
    }
   ],
   "source": [
    "model.fit(X_train,y_train)"
   ]
  },
  {
   "cell_type": "code",
   "execution_count": 31,
   "metadata": {},
   "outputs": [],
   "source": [
    "y_pred = model.predict(X_test)\n",
    "predictions = [round(value) for value in y_pred]"
   ]
  },
  {
   "cell_type": "code",
   "execution_count": 32,
   "metadata": {},
   "outputs": [
    {
     "name": "stdout",
     "output_type": "stream",
     "text": [
      "0.7130044843049327\n"
     ]
    }
   ],
   "source": [
    "accuracy = accuracy_score(y_test, predictions)\n",
    "print(accuracy)"
   ]
  },
  {
   "cell_type": "markdown",
   "metadata": {},
   "source": [
    "That seems to be pretty decent. Most of the values that I was playing with gave me somewhere between 66 and 70. Let's check it against the winning gradient boosting model from 3.0-theberling-classifier.ipynb"
   ]
  },
  {
   "cell_type": "code",
   "execution_count": 33,
   "metadata": {},
   "outputs": [],
   "source": [
    "model2 = GradientBoostingClassifier(n_estimators=200,learning_rate=0.05,max_depth=1)"
   ]
  },
  {
   "cell_type": "code",
   "execution_count": 34,
   "metadata": {},
   "outputs": [
    {
     "data": {
      "text/plain": [
       "GradientBoostingClassifier(ccp_alpha=0.0, criterion='friedman_mse', init=None,\n",
       "                           learning_rate=0.05, loss='deviance', max_depth=1,\n",
       "                           max_features=None, max_leaf_nodes=None,\n",
       "                           min_impurity_decrease=0.0, min_impurity_split=None,\n",
       "                           min_samples_leaf=1, min_samples_split=2,\n",
       "                           min_weight_fraction_leaf=0.0, n_estimators=200,\n",
       "                           n_iter_no_change=None, presort='deprecated',\n",
       "                           random_state=None, subsample=1.0, tol=0.0001,\n",
       "                           validation_fraction=0.1, verbose=0,\n",
       "                           warm_start=False)"
      ]
     },
     "execution_count": 34,
     "metadata": {},
     "output_type": "execute_result"
    }
   ],
   "source": [
    "model2.fit(X_train,y_train)"
   ]
  },
  {
   "cell_type": "code",
   "execution_count": 35,
   "metadata": {},
   "outputs": [],
   "source": [
    "y_pred2 = model2.predict(X_test)\n",
    "predictions2 = [round(value) for value in y_pred2]"
   ]
  },
  {
   "cell_type": "code",
   "execution_count": 36,
   "metadata": {},
   "outputs": [
    {
     "name": "stdout",
     "output_type": "stream",
     "text": [
      "0.6860986547085202\n"
     ]
    }
   ],
   "source": [
    "accuracy2 = accuracy_score(y_test, predictions2)\n",
    "print(accuracy2)"
   ]
  },
  {
   "cell_type": "markdown",
   "metadata": {},
   "source": [
    "Let's run it on our submission data set and see what happens."
   ]
  },
  {
   "cell_type": "code",
   "execution_count": 37,
   "metadata": {},
   "outputs": [
    {
     "data": {
      "text/html": [
       "<div>\n",
       "<style scoped>\n",
       "    .dataframe tbody tr th:only-of-type {\n",
       "        vertical-align: middle;\n",
       "    }\n",
       "\n",
       "    .dataframe tbody tr th {\n",
       "        vertical-align: top;\n",
       "    }\n",
       "\n",
       "    .dataframe thead th {\n",
       "        text-align: right;\n",
       "    }\n",
       "</style>\n",
       "<table border=\"1\" class=\"dataframe\">\n",
       "  <thead>\n",
       "    <tr style=\"text-align: right;\">\n",
       "      <th></th>\n",
       "      <th>Season</th>\n",
       "      <th>LowID</th>\n",
       "      <th>HighID</th>\n",
       "      <th>LowScore</th>\n",
       "      <th>LowFGP</th>\n",
       "      <th>LowFGP3</th>\n",
       "      <th>LowFTP</th>\n",
       "      <th>LowOR</th>\n",
       "      <th>LowDR</th>\n",
       "      <th>LowAst</th>\n",
       "      <th>...</th>\n",
       "      <th>HighFTP</th>\n",
       "      <th>HighOR</th>\n",
       "      <th>HighDR</th>\n",
       "      <th>HighAst</th>\n",
       "      <th>HighTO</th>\n",
       "      <th>HighStl</th>\n",
       "      <th>HighBlk</th>\n",
       "      <th>HighPF</th>\n",
       "      <th>HighRank</th>\n",
       "      <th>HighSeed</th>\n",
       "    </tr>\n",
       "  </thead>\n",
       "  <tbody>\n",
       "    <tr>\n",
       "      <th>0</th>\n",
       "      <td>2021</td>\n",
       "      <td>1101</td>\n",
       "      <td>1104</td>\n",
       "      <td>76.304348</td>\n",
       "      <td>0.459648</td>\n",
       "      <td>0.383192</td>\n",
       "      <td>0.689699</td>\n",
       "      <td>9.608696</td>\n",
       "      <td>22.826087</td>\n",
       "      <td>18.173913</td>\n",
       "      <td>...</td>\n",
       "      <td>0.711088</td>\n",
       "      <td>10.400000</td>\n",
       "      <td>25.966667</td>\n",
       "      <td>14.133333</td>\n",
       "      <td>13.833333</td>\n",
       "      <td>8.633333</td>\n",
       "      <td>4.333333</td>\n",
       "      <td>4.933333</td>\n",
       "      <td>6.865385</td>\n",
       "      <td>2.0</td>\n",
       "    </tr>\n",
       "    <tr>\n",
       "      <th>1</th>\n",
       "      <td>2021</td>\n",
       "      <td>1101</td>\n",
       "      <td>1111</td>\n",
       "      <td>76.304348</td>\n",
       "      <td>0.459648</td>\n",
       "      <td>0.383192</td>\n",
       "      <td>0.689699</td>\n",
       "      <td>9.608696</td>\n",
       "      <td>22.826087</td>\n",
       "      <td>18.173913</td>\n",
       "      <td>...</td>\n",
       "      <td>0.699853</td>\n",
       "      <td>8.875000</td>\n",
       "      <td>22.041667</td>\n",
       "      <td>11.333333</td>\n",
       "      <td>11.125000</td>\n",
       "      <td>7.541667</td>\n",
       "      <td>3.166667</td>\n",
       "      <td>8.083333</td>\n",
       "      <td>180.360000</td>\n",
       "      <td>16.0</td>\n",
       "    </tr>\n",
       "    <tr>\n",
       "      <th>2</th>\n",
       "      <td>2021</td>\n",
       "      <td>1101</td>\n",
       "      <td>1116</td>\n",
       "      <td>76.304348</td>\n",
       "      <td>0.459648</td>\n",
       "      <td>0.383192</td>\n",
       "      <td>0.689699</td>\n",
       "      <td>9.608696</td>\n",
       "      <td>22.826087</td>\n",
       "      <td>18.173913</td>\n",
       "      <td>...</td>\n",
       "      <td>0.743755</td>\n",
       "      <td>10.571429</td>\n",
       "      <td>26.142857</td>\n",
       "      <td>14.928571</td>\n",
       "      <td>12.821429</td>\n",
       "      <td>8.035714</td>\n",
       "      <td>5.142857</td>\n",
       "      <td>4.035714</td>\n",
       "      <td>13.269231</td>\n",
       "      <td>3.0</td>\n",
       "    </tr>\n",
       "    <tr>\n",
       "      <th>3</th>\n",
       "      <td>2021</td>\n",
       "      <td>1101</td>\n",
       "      <td>1124</td>\n",
       "      <td>76.304348</td>\n",
       "      <td>0.459648</td>\n",
       "      <td>0.383192</td>\n",
       "      <td>0.689699</td>\n",
       "      <td>9.608696</td>\n",
       "      <td>22.826087</td>\n",
       "      <td>18.173913</td>\n",
       "      <td>...</td>\n",
       "      <td>0.703066</td>\n",
       "      <td>11.333333</td>\n",
       "      <td>22.375000</td>\n",
       "      <td>17.041667</td>\n",
       "      <td>12.166667</td>\n",
       "      <td>8.958333</td>\n",
       "      <td>3.750000</td>\n",
       "      <td>5.250000</td>\n",
       "      <td>3.038462</td>\n",
       "      <td>1.0</td>\n",
       "    </tr>\n",
       "    <tr>\n",
       "      <th>4</th>\n",
       "      <td>2021</td>\n",
       "      <td>1101</td>\n",
       "      <td>1140</td>\n",
       "      <td>76.304348</td>\n",
       "      <td>0.459648</td>\n",
       "      <td>0.383192</td>\n",
       "      <td>0.689699</td>\n",
       "      <td>9.608696</td>\n",
       "      <td>22.826087</td>\n",
       "      <td>18.173913</td>\n",
       "      <td>...</td>\n",
       "      <td>0.742710</td>\n",
       "      <td>8.320000</td>\n",
       "      <td>28.280000</td>\n",
       "      <td>16.160000</td>\n",
       "      <td>13.000000</td>\n",
       "      <td>4.680000</td>\n",
       "      <td>2.840000</td>\n",
       "      <td>4.600000</td>\n",
       "      <td>20.666667</td>\n",
       "      <td>6.0</td>\n",
       "    </tr>\n",
       "  </tbody>\n",
       "</table>\n",
       "<p>5 rows × 29 columns</p>\n",
       "</div>"
      ],
      "text/plain": [
       "   Season  LowID  HighID   LowScore    LowFGP   LowFGP3    LowFTP     LowOR  \\\n",
       "0    2021   1101    1104  76.304348  0.459648  0.383192  0.689699  9.608696   \n",
       "1    2021   1101    1111  76.304348  0.459648  0.383192  0.689699  9.608696   \n",
       "2    2021   1101    1116  76.304348  0.459648  0.383192  0.689699  9.608696   \n",
       "3    2021   1101    1124  76.304348  0.459648  0.383192  0.689699  9.608696   \n",
       "4    2021   1101    1140  76.304348  0.459648  0.383192  0.689699  9.608696   \n",
       "\n",
       "       LowDR     LowAst  ...   HighFTP     HighOR     HighDR    HighAst  \\\n",
       "0  22.826087  18.173913  ...  0.711088  10.400000  25.966667  14.133333   \n",
       "1  22.826087  18.173913  ...  0.699853   8.875000  22.041667  11.333333   \n",
       "2  22.826087  18.173913  ...  0.743755  10.571429  26.142857  14.928571   \n",
       "3  22.826087  18.173913  ...  0.703066  11.333333  22.375000  17.041667   \n",
       "4  22.826087  18.173913  ...  0.742710   8.320000  28.280000  16.160000   \n",
       "\n",
       "      HighTO   HighStl   HighBlk    HighPF    HighRank  HighSeed  \n",
       "0  13.833333  8.633333  4.333333  4.933333    6.865385       2.0  \n",
       "1  11.125000  7.541667  3.166667  8.083333  180.360000      16.0  \n",
       "2  12.821429  8.035714  5.142857  4.035714   13.269231       3.0  \n",
       "3  12.166667  8.958333  3.750000  5.250000    3.038462       1.0  \n",
       "4  13.000000  4.680000  2.840000  4.600000   20.666667       6.0  \n",
       "\n",
       "[5 rows x 29 columns]"
      ]
     },
     "execution_count": 37,
     "metadata": {},
     "output_type": "execute_result"
    }
   ],
   "source": [
    "data = pd.read_csv('../../data/processed/model_dataset2.csv')\n",
    "data.head()"
   ]
  },
  {
   "cell_type": "code",
   "execution_count": 46,
   "metadata": {},
   "outputs": [
    {
     "data": {
      "text/plain": [
       "array([0, 0, 0, ..., 1, 0, 0])"
      ]
     },
     "execution_count": 46,
     "metadata": {},
     "output_type": "execute_result"
    }
   ],
   "source": [
    "predictions = model.predict(data)\n",
    "predictions"
   ]
  },
  {
   "cell_type": "code",
   "execution_count": 47,
   "metadata": {},
   "outputs": [
    {
     "data": {
      "text/plain": [
       "array([[0.90552395, 0.09447605],\n",
       "       [0.66393287, 0.33606713],\n",
       "       [0.91118332, 0.08881668],\n",
       "       ...,\n",
       "       [0.40607894, 0.59392106],\n",
       "       [0.60249355, 0.39750645],\n",
       "       [0.66988895, 0.33011105]])"
      ]
     },
     "execution_count": 47,
     "metadata": {},
     "output_type": "execute_result"
    }
   ],
   "source": [
    "probs = model.predict_proba(data)\n",
    "probs"
   ]
  },
  {
   "cell_type": "code",
   "execution_count": 48,
   "metadata": {},
   "outputs": [
    {
     "data": {
      "text/plain": [
       "array([0.09447605, 0.33606713, 0.08881668, ..., 0.59392106, 0.39750645,\n",
       "       0.33011105])"
      ]
     },
     "execution_count": 48,
     "metadata": {},
     "output_type": "execute_result"
    }
   ],
   "source": [
    "prob_of_1 = probs[:,1]\n",
    "prob_of_1"
   ]
  },
  {
   "cell_type": "code",
   "execution_count": 49,
   "metadata": {},
   "outputs": [],
   "source": [
    "def make_id(row):\n",
    "    season = row[0]\n",
    "    low_id = row[1]\n",
    "    high_id = row[2]\n",
    "    ID = str(int(season))+'_'+str(int(low_id))+'_'+str(int(high_id))\n",
    "    return ID"
   ]
  },
  {
   "cell_type": "code",
   "execution_count": 50,
   "metadata": {},
   "outputs": [],
   "source": [
    "ID = data.apply(make_id,axis=1)"
   ]
  },
  {
   "cell_type": "code",
   "execution_count": 51,
   "metadata": {},
   "outputs": [],
   "source": [
    "df_submission = pd.DataFrame()"
   ]
  },
  {
   "cell_type": "code",
   "execution_count": 52,
   "metadata": {},
   "outputs": [
    {
     "data": {
      "text/html": [
       "<div>\n",
       "<style scoped>\n",
       "    .dataframe tbody tr th:only-of-type {\n",
       "        vertical-align: middle;\n",
       "    }\n",
       "\n",
       "    .dataframe tbody tr th {\n",
       "        vertical-align: top;\n",
       "    }\n",
       "\n",
       "    .dataframe thead th {\n",
       "        text-align: right;\n",
       "    }\n",
       "</style>\n",
       "<table border=\"1\" class=\"dataframe\">\n",
       "  <thead>\n",
       "    <tr style=\"text-align: right;\">\n",
       "      <th></th>\n",
       "      <th>ID</th>\n",
       "      <th>Pred</th>\n",
       "    </tr>\n",
       "  </thead>\n",
       "  <tbody>\n",
       "    <tr>\n",
       "      <th>0</th>\n",
       "      <td>2021_1101_1104</td>\n",
       "      <td>0.094476</td>\n",
       "    </tr>\n",
       "    <tr>\n",
       "      <th>1</th>\n",
       "      <td>2021_1101_1111</td>\n",
       "      <td>0.336067</td>\n",
       "    </tr>\n",
       "    <tr>\n",
       "      <th>2</th>\n",
       "      <td>2021_1101_1116</td>\n",
       "      <td>0.088817</td>\n",
       "    </tr>\n",
       "    <tr>\n",
       "      <th>3</th>\n",
       "      <td>2021_1101_1124</td>\n",
       "      <td>0.063618</td>\n",
       "    </tr>\n",
       "    <tr>\n",
       "      <th>4</th>\n",
       "      <td>2021_1101_1140</td>\n",
       "      <td>0.239142</td>\n",
       "    </tr>\n",
       "  </tbody>\n",
       "</table>\n",
       "</div>"
      ],
      "text/plain": [
       "               ID      Pred\n",
       "0  2021_1101_1104  0.094476\n",
       "1  2021_1101_1111  0.336067\n",
       "2  2021_1101_1116  0.088817\n",
       "3  2021_1101_1124  0.063618\n",
       "4  2021_1101_1140  0.239142"
      ]
     },
     "execution_count": 52,
     "metadata": {},
     "output_type": "execute_result"
    }
   ],
   "source": [
    "df_submission['ID'] = ID\n",
    "df_submission['Pred'] = prob_of_1\n",
    "df_submission.head()"
   ]
  },
  {
   "cell_type": "code",
   "execution_count": 53,
   "metadata": {},
   "outputs": [],
   "source": [
    "df_submission.to_csv('../../data/predictions/phase1_submissions1.csv',index=False)"
   ]
  },
  {
   "cell_type": "code",
   "execution_count": null,
   "metadata": {},
   "outputs": [],
   "source": []
  }
 ],
 "metadata": {
  "kernelspec": {
   "display_name": "Python 3",
   "language": "python",
   "name": "python3"
  },
  "language_info": {
   "codemirror_mode": {
    "name": "ipython",
    "version": 3
   },
   "file_extension": ".py",
   "mimetype": "text/x-python",
   "name": "python",
   "nbconvert_exporter": "python",
   "pygments_lexer": "ipython3",
   "version": "3.7.6"
  }
 },
 "nbformat": 4,
 "nbformat_minor": 4
}
