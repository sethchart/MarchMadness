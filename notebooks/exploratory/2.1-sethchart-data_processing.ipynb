{
 "cells": [
  {
   "cell_type": "markdown",
   "id": "overall-extraction",
   "metadata": {},
   "source": [
    "# Data Processing\n",
    "\n",
    "In this notebook we follow 1.0-theberling_data_explore_2021 and try to functionalize the data processing steps contained there."
   ]
  },
  {
   "cell_type": "markdown",
   "id": "painful-tennessee",
   "metadata": {},
   "source": [
    "## Imports"
   ]
  },
  {
   "cell_type": "code",
   "execution_count": 1,
   "id": "alive-insertion",
   "metadata": {},
   "outputs": [],
   "source": [
    "import pandas as pd\n",
    "from pathlib import Path"
   ]
  },
  {
   "cell_type": "markdown",
   "id": "pediatric-qualification",
   "metadata": {},
   "source": [
    "## Data Loader Class"
   ]
  },
  {
   "cell_type": "code",
   "execution_count": 2,
   "id": "absolute-category",
   "metadata": {},
   "outputs": [],
   "source": [
    "class DataIO(object):\n",
    "    \"\"\"Ecapsulates data loading functionality.\n",
    "    \"\"\"\n",
    "    \n",
    "    def __init__(self, input_folder):\n",
    "        \"\"\"Set the input folder on instantiation.\n",
    "        \"\"\"\n",
    "        self.input_folder = input_folder\n",
    "        \n",
    "    def load_dataframe(self, filename):\n",
    "        \"\"\"Load the csv with the given file name from the \n",
    "        input folder as a DataFrame.\n",
    "        \"\"\"\n",
    "        file_path = Path(self.input_folder).joinpath(filename)\n",
    "        df = pd.read_csv(file_path)\n",
    "        return df"
   ]
  },
  {
   "cell_type": "markdown",
   "id": "broadband-penetration",
   "metadata": {},
   "source": [
    "### Instantiate Loader Object"
   ]
  },
  {
   "cell_type": "code",
   "execution_count": 3,
   "id": "remarkable-attendance",
   "metadata": {},
   "outputs": [],
   "source": [
    "input_folder = '../../data/raw/MDataFiles_Stage1/'\n",
    "loader = DataIO(input_folder)"
   ]
  },
  {
   "cell_type": "markdown",
   "id": "dependent-prescription",
   "metadata": {},
   "source": [
    "## Load in the data"
   ]
  },
  {
   "cell_type": "code",
   "execution_count": 4,
   "id": "unknown-logistics",
   "metadata": {},
   "outputs": [],
   "source": [
    "df_regseasonDets = loader.load_dataframe('MRegularSeasonDetailedResults.csv')\n",
    "df_rankings = loader.load_dataframe('MMasseyOrdinals.csv')\n",
    "df_seeds = loader.load_dataframe('MNCAATourneySeeds.csv')"
   ]
  },
  {
   "cell_type": "code",
   "execution_count": 5,
   "id": "dominant-programmer",
   "metadata": {},
   "outputs": [],
   "source": [
    "columns = df_regseasonDets.columns\n",
    "winner_columns = [column for column in columns if column.startswith('W')]\n",
    "loser_columns = [column for column in columns if column.startswith('L')]\n",
    "game_columns = [column for column in columns if not (column[0] in ['L', 'W'])]\n",
    "assert len(columns) == len(winner_columns) + len(loser_columns) + len(game_columns), \"You dropped columns.\"\n",
    "assert set(winner_columns).intersection(loser_columns) == set(), \"Winner and loser columns overlap.\"\n",
    "assert set(winner_columns).intersection(game_columns) == set(), \"Winner and game columns overlap.\"\n",
    "assert set(game_columns).intersection(loser_columns) == set(), \"Game and loser columns overlap.\""
   ]
  },
  {
   "cell_type": "code",
   "execution_count": null,
   "id": "durable-screen",
   "metadata": {},
   "outputs": [],
   "source": []
  }
 ],
 "metadata": {
  "kernelspec": {
   "display_name": "Python 3",
   "language": "python",
   "name": "python3"
  },
  "language_info": {
   "codemirror_mode": {
    "name": "ipython",
    "version": 3
   },
   "file_extension": ".py",
   "mimetype": "text/x-python",
   "name": "python",
   "nbconvert_exporter": "python",
   "pygments_lexer": "ipython3",
   "version": "3.8.6"
  }
 },
 "nbformat": 4,
 "nbformat_minor": 5
}
