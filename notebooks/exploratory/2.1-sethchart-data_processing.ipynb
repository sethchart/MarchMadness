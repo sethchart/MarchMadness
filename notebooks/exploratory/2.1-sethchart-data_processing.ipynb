{
 "cells": [
  {
   "cell_type": "markdown",
   "id": "exclusive-excellence",
   "metadata": {},
   "source": [
    "# Data Processing\n",
    "\n",
    "In this notebook we follow 1.0-theberling_data_explore_2021 and try to functionalize the data processing steps contained there."
   ]
  },
  {
   "cell_type": "code",
   "execution_count": null,
   "id": "practical-quilt",
   "metadata": {},
   "outputs": [],
   "source": []
  }
 ],
 "metadata": {
  "kernelspec": {
   "display_name": "Python 3",
   "language": "python",
   "name": "python3"
  },
  "language_info": {
   "codemirror_mode": {
    "name": "ipython",
    "version": 3
   },
   "file_extension": ".py",
   "mimetype": "text/x-python",
   "name": "python",
   "nbconvert_exporter": "python",
   "pygments_lexer": "ipython3",
   "version": "3.8.6"
  }
 },
 "nbformat": 4,
 "nbformat_minor": 5
}
