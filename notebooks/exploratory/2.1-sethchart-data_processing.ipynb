{
 "cells": [
  {
   "cell_type": "markdown",
   "id": "overall-extraction",
   "metadata": {},
   "source": [
    "# Data Processing\n",
    "\n",
    "In this notebook we follow 1.0-theberling_data_explore_2021 and try to functionalize the data processing steps contained there."
   ]
  },
  {
   "cell_type": "markdown",
   "id": "painful-tennessee",
   "metadata": {},
   "source": [
    "## Imports"
   ]
  },
  {
   "cell_type": "code",
   "execution_count": 1,
   "id": "alive-insertion",
   "metadata": {},
   "outputs": [],
   "source": [
    "from src.data.data_tools import DataIO"
   ]
  },
  {
   "cell_type": "markdown",
   "id": "broadband-penetration",
   "metadata": {},
   "source": [
    "### Instantiate DataIO Object"
   ]
  },
  {
   "cell_type": "code",
   "execution_count": 2,
   "id": "remarkable-attendance",
   "metadata": {},
   "outputs": [],
   "source": [
    "input_folder = '../../data/raw/MDataFiles_Stage1/'\n",
    "output_folder = '../../data/processed/'\n",
    "data_io = DataIO(input_folder, output_folder)"
   ]
  },
  {
   "cell_type": "code",
   "execution_count": 3,
   "id": "earlier-senegal",
   "metadata": {},
   "outputs": [
    {
     "name": "stdout",
     "output_type": "stream",
     "text": [
      "MSeasons.csv\n",
      "MConferenceTourneyGames.csv\n",
      "MSecondaryTourneyCompactResults.csv\n",
      "MRegularSeasonDetailedResults.csv\n",
      "MTeams.csv\n",
      "MSecondaryTourneyTeams.csv\n",
      "MNCAATourneyCompactResults.csv\n",
      "MRegularSeasonCompactResults.csv\n",
      "MMasseyOrdinals.csv\n",
      "MTeamCoaches.csv\n",
      "Conferences.csv\n",
      "MNCAATourneySeeds.csv\n",
      "MSampleSubmissionStage1.csv\n",
      "MNCAATourneyDetailedResults.csv\n",
      "MNCAATourneySeedRoundSlots.csv\n",
      "MTeamConferences.csv\n",
      "MGameCities.csv\n",
      "Cities.csv\n",
      "MTeamSpellings.csv\n",
      "MNCAATourneySlots.csv\n"
     ]
    }
   ],
   "source": [
    "data_io.list_input_files()"
   ]
  },
  {
   "cell_type": "markdown",
   "id": "dependent-prescription",
   "metadata": {},
   "source": [
    "## Load in the data"
   ]
  },
  {
   "cell_type": "code",
   "execution_count": 4,
   "id": "unknown-logistics",
   "metadata": {},
   "outputs": [],
   "source": [
    "df_regseasonDets = data_io.load_data('MRegularSeasonDetailedResults.csv')\n",
    "df_rankings = data_io.load_data('MMasseyOrdinals.csv')\n",
    "df_seeds = data_io.load_data('MNCAATourneySeeds.csv')"
   ]
  },
  {
   "cell_type": "code",
   "execution_count": 5,
   "id": "dominant-programmer",
   "metadata": {},
   "outputs": [],
   "source": [
    "columns = df_regseasonDets.columns\n",
    "winner_columns = [column for column in columns if column.startswith('W')]\n",
    "loser_columns = [column for column in columns if column.startswith('L')]\n",
    "game_columns = [column for column in columns if not (column[0] in ['L', 'W'])]\n",
    "assert len(columns) == len(winner_columns) + len(loser_columns) + len(game_columns), \"You dropped columns.\"\n",
    "assert set(winner_columns).intersection(loser_columns) == set(), \"Winner and loser columns overlap.\"\n",
    "assert set(winner_columns).intersection(game_columns) == set(), \"Winner and game columns overlap.\"\n",
    "assert set(game_columns).intersection(loser_columns) == set(), \"Game and loser columns overlap.\""
   ]
  }
 ],
 "metadata": {
  "kernelspec": {
   "display_name": "Python 3",
   "language": "python",
   "name": "python3"
  },
  "language_info": {
   "codemirror_mode": {
    "name": "ipython",
    "version": 3
   },
   "file_extension": ".py",
   "mimetype": "text/x-python",
   "name": "python",
   "nbconvert_exporter": "python",
   "pygments_lexer": "ipython3",
   "version": "3.8.6"
  }
 },
 "nbformat": 4,
 "nbformat_minor": 5
}
